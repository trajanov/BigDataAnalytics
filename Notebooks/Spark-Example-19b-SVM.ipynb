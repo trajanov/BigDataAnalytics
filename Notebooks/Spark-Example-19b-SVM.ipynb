{
 "cells": [
  {
   "attachments": {},
   "cell_type": "markdown",
   "metadata": {},
   "source": [
    "# SVM Implementation\n",
    "Author: Uwe Mueller, June, 2023 v1.0\n",
    "\n",
    "Implementation of SVM with a weighted stochastic gradient descent algorithm."
   ]
  },
  {
   "attachments": {},
   "cell_type": "markdown",
   "metadata": {},
   "source": [
    "#### Loss Function\n",
    "\n",
    "$$\n",
    "\\frac{\\lambda}{2} || w ||^2 + \\frac{1}{n} \\sum\\limits_i max(0, 1 - y_i (w.x_i)) \\qquad\\qquad{(4.9)}\n",
    "$$"
   ]
  },
  {
   "attachments": {},
   "cell_type": "markdown",
   "metadata": {},
   "source": [
    "#### Gradient \n",
    "$$\n",
    "\n",
    "\\\n",
    "\\begin{align*}\n",
    "\\nabla J(w) = \\begin{cases}\n",
    "-w + C \\sum_{i=1}^{m} y^{(i)}x^{(i)}, & \\text{if } y^{(i)}w^Tx^{(i)} < 1 \\\\\n",
    "-w, & \\text{otherwise}\n",
    "\\end{cases}\n",
    "\\end{align*}\n",
    "\\\n",
    "$$"
   ]
  },
  {
   "cell_type": "code",
   "execution_count": 1,
   "metadata": {},
   "outputs": [],
   "source": [
    "from __future__ import print_function\n",
    "import re\n",
    "import sys\n",
    "import numpy as np\n",
    "from operator import add\n",
    "import findspark\n",
    "findspark.init()\n",
    "from pyspark import SparkContext\n",
    "from pyspark.sql import SparkSession\n",
    "from pyspark import SparkConf,SparkContext\n",
    "from sklearn.datasets import make_blobs\n",
    "from pandas import DataFrame\n",
    "from matplotlib import pyplot\n",
    "import matplotlib.cm as cm\n",
    "import numpy as np\n",
    "import matplotlib.pyplot as plt \n",
    "\n",
    "sc = SparkContext(master='local',appName=\"SVM\")\n",
    "spark = SparkSession(sparkContext=sc)\n",
    "spark.sparkContext.setLogLevel('WARN')\n"
   ]
  },
  {
   "cell_type": "code",
   "execution_count": 2,
   "metadata": {},
   "outputs": [],
   "source": [
    "# Implemeted weighted SVM function with stocastic gradient and regularization\n",
    "def SVM_reg_weighted(data, learningRate, num_Iter, regularisation = 0, printcoeff = False):\n",
    "\t# Calculate the dimensionality of the inpit data\n",
    "    num_samples = data.count()\n",
    "    beta = 0.9\n",
    "    d_input = len(data.first()[1])\n",
    "    qti = coeff = nzeros = np.zeros(d_input)\n",
    "    epsilon = 10e-12\n",
    "    cost_list = []\n",
    "        \n",
    "\n",
    "\t# The main iterative part of gradient descent algorithm \n",
    "    for i in range(num_Iter):\n",
    "\t\t# create mini batch\n",
    "        mini_batch = data.sample(False, 800, i)\n",
    "\t\t# Seperately calculate the gradient for class 0 and class 1\n",
    "        res0 = (mini_batch\n",
    "                .filter(lambda x: x[0] == -1)\n",
    "                .map(lambda x: (x[0], x[1], x[0]*np.dot(x[1], coeff)))\n",
    "                .map(lambda x: (nzeros if x[2] > 1.0 else -1.0 * x[0] * x[1],\\\n",
    "                                max(0, 1 - x[2])))\n",
    "                .reduce(lambda x, y: (x[0] + y[0], x[1] + y[1]))\n",
    "        )\n",
    "\t\n",
    "        res1 =  (mini_batch\n",
    "                .filter(lambda x: x[0] == 1)\n",
    "                .map(lambda x: (x[0], x[1], x[0]*np.dot(x[1], coeff)))\n",
    "                .map(lambda x: (nzeros if x[2] > 1.0 else -1.0 * x[0] * x[1],\\\n",
    "                                max(0, 1 - x[2])))\n",
    "                .reduce(lambda x, y: (x[0] + y[0], x[1] + y[1]))\n",
    "        )\n",
    "\n",
    "\t# Calculate the combined weighted gradient for class 1 and 0\n",
    "        gradients = w0 * res0[0] + w1 * res1[0]\n",
    "        sum_cost = w0 * res0[1] + w1 * res1[1]\t\n",
    "\t\n",
    "\t\n",
    "\t# Add L2 Regularization (sum of squared coefficients)\n",
    "        cost=(sum_cost/float(num_samples))+regularisation*np.square(coeff).sum()\n",
    "        gradient= (1.0/float(num_samples))*gradients+regularisation*2*coeff\n",
    "        sq_grad = gradient ** 2\n",
    "        exp_grad = beta * qti / (i + 1) + (1 - beta) * sq_grad\n",
    "        coeff = coeff - learningRate / np.sqrt(exp_grad + epsilon) * gradient\n",
    "        qti += sq_grad\n",
    "\n",
    "        if printcoeff:\n",
    "            print(f\"{i} Cost:{cost:.5f} Coeff {coeff}\")\n",
    "\t\t# Save the model parameters so we can eveluate the model on the test dataset.\n",
    "\n",
    "\t\t#append cost so we can plot it later\n",
    "        cost_list.append(cost)\n",
    "\n",
    "\t\t# Check if cost is increasing at which point set conversion to False\n",
    "        if i == 0:\n",
    "            start_cost = cost\n",
    "\n",
    "    return(cost_list, coeff, start_cost > cost )"
   ]
  },
  {
   "cell_type": "code",
   "execution_count": 3,
   "metadata": {},
   "outputs": [],
   "source": [
    "# Calculate the Model performance based on the predicition coefficient and the test data and return accuracy, and f1 scores\n",
    "def calc_modelperf(pred_coeff, test_data, printing = False):\n",
    "    num_samples = test_data.count()\n",
    "    predictions = test_data.map(lambda x: (x[0], 1 if np.dot(x[1],pred_coeff)>0 else -1))\n",
    "    TP= predictions.map(lambda x: 1 if (x[0]== 1) and (x[1]==1) else 0).reduce(lambda x,y:x+y)\n",
    "    FP = predictions.map(lambda x: 1 if (x[0]== -1) and (x[1]==1) else 0).reduce(lambda x,y:x+y)\n",
    "\n",
    "    TN = predictions.map(lambda x: 1 if (x[0]== -1) and (x[1]==-1) else 0).reduce(lambda x,y:x+y)\n",
    "    FN = predictions.map(lambda x: 1 if (x[0]== 1) and (x[1]==-1) else 0).reduce(lambda x,y:x+y)\n",
    "\n",
    "    # Calculate the Accuracy and the F1\n",
    "    accuracy = (TP+TN)/(num_samples)\n",
    "    f1 = (2*TP)/((2*TP) + FP + FN)\n",
    "    if TP + FP ==0:\n",
    "          precision = 0\n",
    "    else:\n",
    "          precision = TP / (TP + FP)\n",
    "    if TP + FN == 0:\n",
    "          recall = 0\n",
    "    else:\n",
    "          recall = TP / (TP + FN)\n",
    "\n",
    "    # Print the Contingency matrix\n",
    "    if printing: \n",
    "        print(\"--Contingency matrix--\")\n",
    "        print(f\" TP:{TP:6}  FP:{FP:6}\")\n",
    "        print(f\" FN:{FN:6}  TN:{TN:6}\")\n",
    "        print(\"----------------------\")\n",
    "        print(f\"Accuracy = {accuracy:.4g}  \\nF1 = {f1:.4g} \\nPrecision = {precision:.4g}\\nRecall = {recall:.4g}\")\n",
    "    \n",
    "    return (accuracy, f1)\n"
   ]
  },
  {
   "attachments": {},
   "cell_type": "markdown",
   "metadata": {},
   "source": [
    "### Create Training/Test Data Set"
   ]
  },
  {
   "cell_type": "code",
   "execution_count": 4,
   "metadata": {},
   "outputs": [],
   "source": [
    "n_feature = 2 # the number of features\n",
    "n_components = 2 # the number of clusters\n",
    "\n",
    "max_iter = 4 # max iterations \n",
    "n=100000 # the number of total samples\n",
    "\n",
    "ratio_positive = 0.5 # The classes ratio.\n",
    "n_samples = [int(n*(1-ratio_positive)), int(n*ratio_positive)]\n",
    "n_components = [1,1]\n",
    "n_samples\n",
    "\n",
    "# generate isotropic Gaussian blobs (data from mixture Gaussian distributions)\n",
    "X, y = make_blobs(n_samples=n_samples, # the number of total samples\n",
    "                  centers=None, # the number of clusters\n",
    "                  n_features=n_feature, # the number of features\n",
    "                  cluster_std = 1.2, # the std of each cluster\n",
    "                  random_state=2) # 2"
   ]
  },
  {
   "cell_type": "code",
   "execution_count": 5,
   "metadata": {},
   "outputs": [],
   "source": [
    "# We need to fix the labels so that the labels are -1 and 1 as SVM expects them\n",
    "y = [-1 if x == 0 else 1 for x in y]"
   ]
  },
  {
   "cell_type": "code",
   "execution_count": 6,
   "metadata": {},
   "outputs": [
    {
     "data": {
      "image/png": "[encoded data removed]",
      "text/plain": [
       "<Figure size 640x480 with 1 Axes>"
      ]
     },
     "metadata": {},
     "output_type": "display_data"
    }
   ],
   "source": [
    "# Code for plotting the data\n",
    "df = DataFrame(dict(x=X[:,0], y=X[:,1], label=y))\n",
    "cluster_name = set(y)\n",
    "colors = dict(zip(cluster_name, cm.rainbow(np.linspace(0, 1, len(cluster_name)))))\n",
    "fig, ax = pyplot.subplots()\n",
    "grouped = df.groupby('label')\n",
    "for key, group in grouped:\n",
    "    group.plot(ax=ax, kind='scatter', x='x', y='y', label=key, color=colors[key].reshape(1,-1))\n",
    "pyplot.title('Original 2D Data from {} Clusters'.format(n_components))\n",
    "pyplot.show()"
   ]
  },
  {
   "cell_type": "code",
   "execution_count": 7,
   "metadata": {},
   "outputs": [
    {
     "name": "stdout",
     "output_type": "stream",
     "text": [
      "(n of 1, 0 and total): (39988, 40037, 80025)\n",
      "Weights class 0 and 1: 0.9993880660389141 1.0006126838051415\n"
     ]
    }
   ],
   "source": [
    "# read X, y into rdd\n",
    "rdd_X = sc.parallelize(X)\n",
    "rdd_y = sc.parallelize(y)\n",
    "\n",
    "# split data into train and test\n",
    "# Add: map(lambda x: (x[0],np.append(x[1],1)))\n",
    "traindata, testdata = rdd_y.zip(rdd_X).randomSplit([0.8, 0.2], seed=12345)\n",
    "traindata = traindata.map(lambda x: (x[0],np.append(x[1],1)))\n",
    "testdata  = testdata.map(lambda x: (x[0],np.append(x[1],1)))\n",
    "traindata.cache()\n",
    "train_size = traindata.count()\n",
    "t = (traindata\n",
    "    .map(lambda x: (0 if x[0] == -1 else 1,0 if x[0] == 1 else 1, 1))\n",
    "    .reduce(lambda x, y: (x[0] + y[0], x[1] + y[1], x[2] + y[2]))\n",
    "\t)\n",
    "\n",
    "# Check balance of the data and set the weights correctly\n",
    "print(\"(n of 1, 0 and total):\", t)\n",
    "w0 = t[2] / (2*t[1])\n",
    "w1 = t[2] / (2*t[0])\n",
    "print(\"Weights class 0 and 1:\", w0,w1)\n"
   ]
  },
  {
   "cell_type": "code",
   "execution_count": 8,
   "metadata": {},
   "outputs": [
    {
     "name": "stdout",
     "output_type": "stream",
     "text": [
      "0 Cost:1.00000 Coeff [0.0284605 0.0284605 0.       ]\n",
      "1 Cost:0.85112 Coeff [0.04059511 0.04059582 0.        ]\n",
      "2 Cost:0.78764 Coeff [0.05135131 0.05135264 0.        ]\n",
      "3 Cost:0.73138 Coeff [0.06157374 0.06157571 0.        ]\n",
      "4 Cost:0.67791 Coeff [0.07148758 0.07145712 0.02844799]\n",
      "5 Cost:0.62655 Coeff [0.08057342 0.07937689 0.05687738]\n",
      "6 Cost:0.58558 Coeff [0.08735883 0.08034954 0.08424734]\n",
      "7 Cost:0.57399 Coeff [0.09412806 0.08134017 0.10344761]\n",
      "8 Cost:0.56267 Coeff [0.10049925 0.08121968 0.12078902]\n",
      "9 Cost:0.55592 Coeff [0.10694283 0.08136578 0.13589993]\n"
     ]
    }
   ],
   "source": [
    "# Train the SVM\n",
    "rescost, rescoeff, _ = SVM_reg_weighted(traindata, learningRate = 0.009, num_Iter = 10, regularisation=0.002, printcoeff = True) "
   ]
  },
  {
   "cell_type": "code",
   "execution_count": 20,
   "metadata": {},
   "outputs": [
    {
     "name": "stdout",
     "output_type": "stream",
     "text": [
      "--Contingency matrix--\n",
      " TP:  9626  FP:   221\n",
      " FN:   386  TN:  9742\n",
      "----------------------\n",
      "Accuracy = 0.9696  \n",
      "F1 = 0.9694 \n",
      "Precision = 0.9776\n",
      "Recall = 0.9614\n"
     ]
    },
    {
     "data": {
      "text/plain": [
       "(0.9696120150187735, 0.9694345133188982)"
      ]
     },
     "execution_count": 20,
     "metadata": {},
     "output_type": "execute_result"
    }
   ],
   "source": [
    "# Display Confusion Matrix and some comoon performance metrics\n",
    "calc_modelperf(rescoeff, testdata, printing=True)"
   ]
  },
  {
   "cell_type": "code",
   "execution_count": 11,
   "metadata": {},
   "outputs": [],
   "source": [
    "spark.stop()"
   ]
  }
 ],
 "metadata": {
  "kernelspec": {
   "display_name": "spark",
   "language": "python",
   "name": "python3"
  },
  "language_info": {
   "codemirror_mode": {
    "name": "ipython",
    "version": 3
   },
   "file_extension": ".py",
   "mimetype": "text/x-python",
   "name": "python",
   "nbconvert_exporter": "python",
   "pygments_lexer": "ipython3",
   "version": "3.10.14"
  },
  "orig_nbformat": 4
 },
 "nbformat": 4,
 "nbformat_minor": 2
}
