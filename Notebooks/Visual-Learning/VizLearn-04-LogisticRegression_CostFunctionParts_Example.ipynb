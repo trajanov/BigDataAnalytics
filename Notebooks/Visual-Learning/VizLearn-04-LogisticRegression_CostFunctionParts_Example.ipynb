{
  "cells": [
    {
      "cell_type": "markdown",
      "metadata": {
        "id": "1-prhAZtxu5d"
      },
      "source": [
        "# LLH Visualization for Logistic Regression\n",
        "\n",
        "In Logistic Regression we have the following LLH that we try to maximize it. \n",
        "\n",
        "$$ LLH =  y \\times \\theta - log(1 + e^{\\theta})$$\n",
        "\n",
        "\n",
        "*   where $  \\theta = \\sum^{n}_{i=1}{x_i \\times \\beta_i} $\n",
        "*  $y$ is one or zero for binary classification.\n",
        "\n",
        "\n",
        "If we plug in $y=1$ in the above equation, we get the following equation:\n",
        "\n",
        "$$ LLH =  \\theta - log(1 + e^{\\theta})$$\n",
        "\n",
        "If we plug in $y=0$ in the above equation, we get the following equation:\n",
        "\n",
        "$$ LLH =  - log(1 + e^{\\theta})$$\n",
        "\n",
        "As a prediction we chose the y value that maximizes the LLH. \n",
        "\n",
        "In the following, we will plot the above two equations for different values of $\\theta$.\n",
        "\n",
        "We can conclude that if $\\theta$ is positive, then $y=1$ is the best prediction. If $\\theta$ is negative, then $y=0$ is the best prediction. If $\\theta$ is zero, then both $y=1$ and $y=0$ are equally good predictions."
      ]
    },
    {
      "cell_type": "code",
      "execution_count": 3,
      "metadata": {
        "colab": {
          "base_uri": "https://localhost:8080/",
          "height": 428
        },
        "id": "GZ9JC8GtvB6o",
        "outputId": "8239f778-b7f2-477f-b123-bde142bfd30f"
      },
      "outputs": [
        {
          "data": {
            "image/png": "[encoded data removed]",
            "text/plain": [
              "<Figure size 640x480 with 1 Axes>"
            ]
          },
          "metadata": {},
          "output_type": "display_data"
        }
      ],
      "source": [
        "import math\n",
        "import numpy as np\n",
        "import matplotlib.pyplot as plt\n",
        "\n",
        "start=-3\n",
        "end = 3\n",
        "\n",
        "theta = np.arange(-1000, end, 0.1)\n",
        "\n",
        "costPart = np.log(1+ np.exp(theta))\n",
        "\n",
        "# add line y = theta\n",
        "plt.plot(theta, - costPart , 'red')\n",
        "plt.xlim(start, end)\n",
        "# set y limit\n",
        "plt.ylim(-5, 5)\n",
        "# plot y = theta - costPart\n",
        "plt.plot(theta, theta - costPart, 'green')\n",
        "# add legend \n",
        "# set the x axis at y=0\n",
        "plt.axhline(y=0, color='k')\n",
        "# set the y axis at x=0\n",
        "plt.axvline(x=0, color='k')\n",
        "plt.legend(['y=0', 'y=1'])\n",
        "# add axis labels\n",
        "plt.xlabel('theta')\n",
        "plt.ylabel('LLH')\n",
        "plt.rcParams[\"figure.figsize\"] = (7,7)\n",
        "plt.show()"
      ]
    },
    {
      "cell_type": "markdown",
      "metadata": {},
      "source": [
        "# Example for LLH calculation for Logistic Regression\n",
        "\n",
        "Let us assume that we have a binary classification problem with two features $x_1$ and $x_2$ and target $y$.\n",
        "\n",
        "To calculate the LLH, we need to calculate $\\theta$ first, and then plug it in the LLH equation.\n",
        "\n",
        "We define a function called `LLH` that takes the following inputs:\n",
        "\n",
        "* `beta` is a list of two values for $\\beta_1$ and $\\beta_2$.\n",
        "* `x` is an array of two values for $x_1$ and $x_2$.\n",
        "* `y` is the target value.\n",
        "\n",
        "The function returns the LLH value."
      ]
    },
    {
      "cell_type": "code",
      "execution_count": 1,
      "metadata": {},
      "outputs": [],
      "source": [
        "# Define the LLH function\n",
        "def llhForParam(beta, x, y):\n",
        "  # First, calculate the theta as a dot product of x and beta\n",
        "  theta = np.dot(x, beta)\n",
        "  # Now, calculate the LLH \n",
        "  llh = sum(y* theta - np.log(1+ np.exp(theta)))\n",
        "  return llh"
      ]
    },
    {
      "cell_type": "markdown",
      "metadata": {},
      "source": [
        "# Calculate LLH"
      ]
    },
    {
      "cell_type": "code",
      "execution_count": 4,
      "metadata": {
        "colab": {
          "base_uri": "https://localhost:8080/"
        },
        "id": "1W7ZsBejvJQu",
        "outputId": "11bcc508-85dc-4c41-cef5-4f3c1a80b51a"
      },
      "outputs": [
        {
          "name": "stdout",
          "output_type": "stream",
          "text": [
            "If coeffients are  [-1 -1]  LLH is  -335.0\n",
            "If coeffients are  [-1  1]  LLH is  -185.00000000207692\n",
            "If coeffients are  [ 1 -1]  LLH is  -105.00000000207692\n",
            "If coeffients are  [1 1]  LLH is  -363.0\n"
          ]
        }
      ],
      "source": [
        "# Define the sample data\n",
        "x1=(92, 23, 67, 98, 18, 6)\n",
        "x2=(12, 67, 92, 78, 45, 100)\n",
        "\n",
        "# Target values\n",
        "y=(0, 0, 1, 1, 0, 0)\n",
        "\n",
        "# convert to numpy array with zip\n",
        "x=np.array(list(zip(x1,x2)))\n",
        "\n",
        "r=np.array([-1, -1])\n",
        "print('If coefficients are ', r , ' LLH is ', llhForParam(r, x, y) )\n",
        "\n",
        "r=np.array([-1, 1])\n",
        "print('If coefficients are ', r , ' LLH is ', llhForParam(r, x, y) )\n",
        "\n",
        "r=np.array([1, -1])\n",
        "print('If coefficients are ', r , ' LLH is ', llhForParam(r, x, y) )\n",
        "\n",
        "r=np.array([1, 1])\n",
        "print('If coefficients are ', r , ' LLH is ', llhForParam(r, x, y) )\n"
      ]
    },
    {
      "cell_type": "code",
      "execution_count": null,
      "metadata": {},
      "outputs": [],
      "source": []
    }
  ],
  "metadata": {
    "colab": {
      "collapsed_sections": [],
      "name": "LogisticRegression-CostFunctionParts-Example.ipynb",
      "provenance": []
    },
    "kernelspec": {
      "display_name": "Python 3",
      "name": "python3"
    },
    "language_info": {
      "codemirror_mode": {
        "name": "ipython",
        "version": 3
      },
      "file_extension": ".py",
      "mimetype": "text/x-python",
      "name": "python",
      "nbconvert_exporter": "python",
      "pygments_lexer": "ipython3",
      "version": "3.10.14"
    }
  },
  "nbformat": 4,
  "nbformat_minor": 0
}
