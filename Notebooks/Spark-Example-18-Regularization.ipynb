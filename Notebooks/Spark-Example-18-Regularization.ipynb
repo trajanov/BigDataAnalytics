{
 "cells": [
  {
   "cell_type": "markdown",
   "metadata": {},
   "source": [
    "# Regularization"
   ]
  },
  {
   "cell_type": "code",
   "execution_count": 1,
   "metadata": {},
   "outputs": [],
   "source": [
    "import findspark\n",
    "findspark.init()\n",
    "from pyspark import SparkContext\n",
    "from pyspark.sql import SparkSession\n",
    "sc = SparkContext(master='local',appName=\"Linear Regression\")\n",
    "spark = SparkSession(sparkContext=sc)"
   ]
  },
  {
   "cell_type": "code",
   "execution_count": 2,
   "metadata": {},
   "outputs": [],
   "source": [
    "import numpy as np\n",
    "import matplotlib.pyplot as plt "
   ]
  },
  {
   "attachments": {},
   "cell_type": "markdown",
   "metadata": {},
   "source": [
    "| **Aspect**                           | **Ridge Regularization**                                                                                                                                                                              | **Lasso Regularization**                                                                                                                                                                                  |\n",
    "|--------------------------------------|-------------------------------------------------------------------------------------------------------------------------------------------------------------------------------------------------------|-----------------------------------------------------------------------------------------------------------------------------------------------------------------------------------------------------------|\n",
    "| **Penalty Term**                     | - Employs an L2 norm penalty: $ \\lambda \\sum_{j=1}^p \\beta_j^2 $ . <br> - Adds the sum of squared coefficients to the loss function.                                                             | - Employs an L1 norm penalty $ \\lambda \\sum_{j=1}^p \\|\\beta_j\\| $ . <br> - Adds the sum of the absolute values of coefficients to the loss function.                                                |\n",
    "| **Coefficient Shrinkage vs. Selection** | - Shrinks all coefficients continuously towards zero. <br> - Does not force any coefficient to be exactly zero, thus retaining all predictors in the model.                                       | - Encourages sparsity by driving some coefficients exactly to zero. <br> - Performs variable selection by effectively eliminating less important predictors from the model.                        |\n",
    "| **Handling of Correlated Predictors** | - Distributes the coefficient weight among correlated predictors, reducing their magnitude uniformly. <br> - Useful when it is believed that all predictors contribute some information.           | - May select one predictor from a group of correlated predictors while setting others to zero. <br> - Can lead to a more interpretable model, though it might be less stable with multicollinearity. |\n",
    "| **Computational Considerations**     | - Often has a closed-form solution (via the normal equations), making it computationally straightforward.                                                                                            | - Lacks a closed-form solution due to the non-differentiability of the L1 norm. <br> - Requires iterative optimization techniques (e.g., coordinate descent) to determine the optimal coefficients.     |\n",
    "| **Bias-Variance Trade-off**          | - Primarily reduces variance by uniformly shrinking coefficients, resulting in a moderate increase in bias.                                                                                           | - May result in higher bias if important predictors are omitted, but often substantially reduces variance through model simplification and sparsity.                                                     |\n",
    "| **Interpretability and Model Complexity** | - Retains all predictors, which may complicate model interpretation when many predictors are involved. <br> - More suitable when it is believed that all predictors have some effect on the response. | - Yields a sparse model by selecting only a subset of predictors. <br> - Enhances interpretability and simplifies the model, although over-regularization may lead to the exclusion of relevant predictors.  |\n"
   ]
  }
 ],
 "metadata": {
  "kernelspec": {
   "display_name": "spark",
   "language": "python",
   "name": "python3"
  },
  "language_info": {
   "codemirror_mode": {
    "name": "ipython",
    "version": 3
   },
   "file_extension": ".py",
   "mimetype": "text/x-python",
   "name": "python",
   "nbconvert_exporter": "python",
   "pygments_lexer": "ipython3",
   "version": "3.10.14"
  },
  "vscode": {
   "interpreter": {
    "hash": "9db6cbf0fd79f8e79653fe7b0c50b956ca6e525ee712295da3c66f75e4fe96ce"
   }
  }
 },
 "nbformat": 4,
 "nbformat_minor": 4
}
