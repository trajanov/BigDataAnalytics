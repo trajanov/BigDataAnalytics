{
 "cells": [
  {
   "cell_type": "markdown",
   "metadata": {},
   "source": [
    "# ChatGPT for sentiment analysis"
   ]
  },
  {
   "cell_type": "code",
   "execution_count": 2,
   "metadata": {},
   "outputs": [],
   "source": [
    "import findspark\n",
    "findspark.init()\n",
    "from pyspark import SparkContext\n",
    "from pyspark.sql import SparkSession\n",
    "\n",
    "spark = SparkSession.builder \\\n",
    "    .master('local[*]') \\\n",
    "    .appName('Spark-Example-30-ChatGPT') \\\n",
    "    .getOrCreate()"
   ]
  },
  {
   "cell_type": "code",
   "execution_count": 3,
   "metadata": {},
   "outputs": [],
   "source": [
    "# Bring in deps\n",
    "import os \n",
    "from pyspark.sql import SparkSession\n",
    "from working.apikey import apikey\n",
    "import openai\n",
    "import tiktoken\n",
    "\n",
    "os.environ['OPENAI_API_KEY'] = apikey\n",
    "openai.api_key = apikey"
   ]
  },
  {
   "cell_type": "code",
   "execution_count": 4,
   "metadata": {},
   "outputs": [],
   "source": [
    "def num_tokens_from_string(string: str, encoding_model: str = \"gpt-4o-mini\") -> int:\n",
    "    \"\"\"Returns the number of tokens in a text string.\"\"\"\n",
    "    encoding = tiktoken.encoding_for_model(encoding_model)\n",
    "    num_tokens = len(encoding.encode(string))\n",
    "    return num_tokens"
   ]
  },
  {
   "cell_type": "code",
   "execution_count": 8,
   "metadata": {},
   "outputs": [
    {
     "data": {
      "text/plain": [
       "13"
      ]
     },
     "execution_count": 8,
     "metadata": {},
     "output_type": "execute_result"
    }
   ],
   "source": [
    "t='{\"name\":\"John\",\"age\":30,\"car\":null}'\n",
    "num_tokens_from_string(t)"
   ]
  },
  {
   "cell_type": "code",
   "execution_count": 9,
   "metadata": {},
   "outputs": [],
   "source": [
    "encoding = tiktoken.encoding_for_model(\"gpt-4o-mini\")"
   ]
  },
  {
   "cell_type": "code",
   "execution_count": 12,
   "metadata": {},
   "outputs": [
    {
     "name": "stdout",
     "output_type": "stream",
     "text": [
      "Number of words in the prompt: 73\n",
      "Number of tokens in the prompt: 97\n",
      "Result from OpenAI:\n",
      "[\n",
      "    {\"text\":\"The CS 777 class is awesome!\",\"sentiment\":\"positive\"},\n",
      "    {\"text\":\"The CS 777 class is terrible!\",\"sentiment\":\"negative\"},\n",
      "    {\"text\":\"The CS 777 class is ok!\",\"sentiment\":\"neutral\"},\n",
      "    {\"text\":\"The CS 777 is a challenging course.\",\"sentiment\":\"neutral\"},\n",
      "    {\"text\":\"The CS 777 class is a lot of fun but a lot of work.\",\"sentiment\":\"mixed\"},\n",
      "    {\"text\":\"The CS 777 course is quite enjoyable, but it demands a lot of effort.\",\"sentiment\":\"mixed\"}\n",
      "]\n"
     ]
    }
   ],
   "source": [
    "# create openai instance\n",
    "openai.api_key = apikey\n",
    "\n",
    "# create opeinai prompt\n",
    "prompt_task = 'Detect the sentiment of the sentences and return the result in JSON without any other explanations, '+\\\n",
    "              'in the format {\"text\":\"sentence\",\"sentiment\":\"sentiment\"}\\n'\n",
    "\n",
    "text = \"\"\"\n",
    "The CS 777 class is awesome!\n",
    "The CS 777 class is terrible!\n",
    "The CS 777 class is ok!\n",
    "The CS 777 is a challenging course.\n",
    "The CS 777 class is a lot of fun but a lot of work.\n",
    "The CS 777 course is quite enjoyable, but it demands a lot of effort.\n",
    "\"\"\"\n",
    "prompt = prompt_task + text \n",
    "# print number of tokens in prompt using split\n",
    "print(\"Number of words in the prompt:\",len(prompt.split()))\n",
    "# print number of tokens in prompt using tiktoken\n",
    "print(\"Number of tokens in the prompt:\",num_tokens_from_string(prompt))\n",
    "\n",
    "# create openai response using\n",
    "response = openai.chat.completions.create(\n",
    "    model=\"gpt-4o-mini\",\n",
    "    #model=\"gpt-4-turbo-preview\",\n",
    "    messages=[{\"role\": \"user\", \"content\": prompt}],\n",
    "    temperature=0.0,\n",
    ")\n",
    "r = response.choices[0].message.content\n",
    "\n",
    "# print the first response\n",
    "print(\"Result from OpenAI:\")\n",
    "\n",
    "print(r)\n"
   ]
  },
  {
   "cell_type": "code",
   "execution_count": 14,
   "metadata": {},
   "outputs": [
    {
     "data": {
      "text/plain": [
       "ChatCompletion(id='chatcmpl-AGDqLKNXu9thS2nCcB5qj1N8iY92X', choices=[Choice(finish_reason='stop', index=0, logprobs=None, message=ChatCompletionMessage(content='[\\n    {\"text\":\"The CS 777 class is awesome!\",\"sentiment\":\"positive\"},\\n    {\"text\":\"The CS 777 class is terrible!\",\"sentiment\":\"negative\"},\\n    {\"text\":\"The CS 777 class is ok!\",\"sentiment\":\"neutral\"},\\n    {\"text\":\"The CS 777 is a challenging course.\",\"sentiment\":\"mixed\"},\\n    {\"text\":\"The CS 777 class is a lot of fun but a lot of work.\",\"sentiment\":\"mixed\"},\\n    {\"text\":\"The CS 777 course is quite enjoyable, but it demands a lot of effort.\",\"sentiment\":\"mixed\"}\\n]', role='assistant', function_call=None, tool_calls=None, refusal=None))], created=1728429825, model='gpt-4o-mini-2024-07-18', object='chat.completion', service_tier=None, system_fingerprint='fp_74ba47b4ac', usage=CompletionUsage(completion_tokens=125, prompt_tokens=114, total_tokens=239, prompt_tokens_details={'cached_tokens': 0}, completion_tokens_details={'reasoning_tokens': 0}))"
      ]
     },
     "execution_count": 14,
     "metadata": {},
     "output_type": "execute_result"
    }
   ],
   "source": [
    "response"
   ]
  },
  {
   "cell_type": "code",
   "execution_count": 13,
   "metadata": {},
   "outputs": [
    {
     "name": "stdout",
     "output_type": "stream",
     "text": [
      "Number of words in the prompt: 78\n",
      "Number of tokens in the prompt: 107\n",
      "Result from OpenAI:\n",
      "[\n",
      "    {\"text\":\"The CS 777 class is awesome!\",\"sentiment\":\"positive\"},\n",
      "    {\"text\":\"The CS 777 class is terrible!\",\"sentiment\":\"negative\"},\n",
      "    {\"text\":\"The CS 777 class is ok!\",\"sentiment\":\"neutral\"},\n",
      "    {\"text\":\"The CS 777 is a challenging course.\",\"sentiment\":\"mixed\"},\n",
      "    {\"text\":\"The CS 777 class is a lot of fun but a lot of work.\",\"sentiment\":\"mixed\"},\n",
      "    {\"text\":\"The CS 777 course is quite enjoyable, but it demands a lot of effort.\",\"sentiment\":\"mixed\"}\n",
      "]\n"
     ]
    }
   ],
   "source": [
    "# create openai instance\n",
    "openai.api_key = apikey\n",
    "\n",
    "# create opeinai prompt\n",
    "prompt_task = 'Detect the sentiment as (positive, negative, mixed, neutral) of the sentences and return the result in JSON without any other explanations, '+\\\n",
    "               'in the format {\"text\":\"sentence\",\"sentiment\":\"sentiment\"}\\n'\n",
    "\n",
    "text = \"\"\"\n",
    "The CS 777 class is awesome!\n",
    "The CS 777 class is terrible!\n",
    "The CS 777 class is ok!\n",
    "The CS 777 is a challenging course.\n",
    "The CS 777 class is a lot of fun but a lot of work.\n",
    "The CS 777 course is quite enjoyable, but it demands a lot of effort.\n",
    "\"\"\"\n",
    "prompt = prompt_task + text \n",
    "# print number of tokens in prompt using split\n",
    "print(\"Number of words in the prompt:\",len(prompt.split()))\n",
    "# print number of tokens in prompt using tiktoken\n",
    "print(\"Number of tokens in the prompt:\",num_tokens_from_string(prompt))\n",
    "\n",
    "# create openai response using\n",
    "response = openai.chat.completions.create(\n",
    "    #model=\"gpt-3.5-turbo\",\n",
    "    model=\"gpt-4o-mini\",\n",
    "    messages=[{\"role\": \"user\", \"content\": prompt}],\n",
    "    temperature=0.0,\n",
    ")\n",
    "r = response.choices[0].message.content\n",
    "\n",
    "# print the first response\n",
    "print(\"Result from OpenAI:\")\n",
    "\n",
    "print(r)\n"
   ]
  },
  {
   "cell_type": "code",
   "execution_count": null,
   "metadata": {},
   "outputs": [],
   "source": []
  }
 ],
 "metadata": {
  "kernelspec": {
   "display_name": "spark",
   "language": "python",
   "name": "python3"
  },
  "language_info": {
   "codemirror_mode": {
    "name": "ipython",
    "version": 3
   },
   "file_extension": ".py",
   "mimetype": "text/x-python",
   "name": "python",
   "nbconvert_exporter": "python",
   "pygments_lexer": "ipython3",
   "version": "3.10.14"
  },
  "orig_nbformat": 4
 },
 "nbformat": 4,
 "nbformat_minor": 2
}
