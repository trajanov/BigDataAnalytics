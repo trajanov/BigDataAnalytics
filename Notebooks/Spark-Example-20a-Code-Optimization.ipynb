{
 "cells": [
  {
   "attachments": {},
   "cell_type": "markdown",
   "metadata": {},
   "source": [
    "### Gradient Descent Optimizers Implementation with Tree Aggregate in PySpark\n",
    "Original Authors: \n",
    "* Yi Rong (yirong@bu.edu)\n",
    "* Xiaoyang Wang (gnayoaix@bu.edu)\n",
    "Date: 05/24/2021\n",
    "\n",
    "### Code optimization\n",
    "Date: 04/08/2022, 02/10/2023"
   ]
  },
  {
   "cell_type": "code",
   "execution_count": 1,
   "metadata": {},
   "outputs": [],
   "source": [
    "import findspark\n",
    "findspark.init()"
   ]
  },
  {
   "cell_type": "code",
   "execution_count": 2,
   "metadata": {},
   "outputs": [],
   "source": [
    "from __future__ import print_function\n",
    "import numpy as np\n",
    "import pandas as pd\n",
    "from sklearn.datasets import make_blobs\n",
    "from matplotlib import pyplot\n",
    "from pandas import DataFrame\n",
    "import matplotlib.cm as cm\n",
    "from pyspark import SparkContext\n",
    "from pyspark.sql import SparkSession\n",
    "sc = SparkContext(\"local\")\n",
    "spark = SparkSession.builder.getOrCreate()"
   ]
  },
  {
   "cell_type": "markdown",
   "metadata": {},
   "source": [
    "### Generate Data with make_blobs"
   ]
  },
  {
   "cell_type": "code",
   "execution_count": 3,
   "metadata": {},
   "outputs": [],
   "source": [
    "n_feature = 2 # the number of features\n",
    "n_components = 2 # the number of clusters\n",
    "\n",
    "max_iter = 4 # max iterations \n",
    "n=100000 # the number of total samples"
   ]
  },
  {
   "cell_type": "code",
   "execution_count": 4,
   "metadata": {},
   "outputs": [],
   "source": [
    "# generate isotropic Gaussian blobs (data from mixture Gaussian distributions)\n",
    "X, y = make_blobs(n_samples=n, # the number of total samples\n",
    "                  centers=n_components, # the number of clusters\n",
    "                  n_features=n_feature, # the number of features\n",
    "                  cluster_std = [0.5] * n_components, # the std of each cluster\n",
    "                  random_state=2) # 2"
   ]
  },
  {
   "cell_type": "code",
   "execution_count": 5,
   "metadata": {},
   "outputs": [
    {
     "data": {
      "image/png": "[encoded data removed]",
      "text/plain": [
       "<Figure size 640x480 with 1 Axes>"
      ]
     },
     "metadata": {},
     "output_type": "display_data"
    }
   ],
   "source": [
    "# scatter plot, data points annotated by different colors\n",
    "df = DataFrame(dict(x=X[:,0], y=X[:,1], label=y))\n",
    "cluster_name = set(y)\n",
    "colors = dict(zip(cluster_name, cm.rainbow(np.linspace(0, 1, len(cluster_name)))))\n",
    "fig, ax = pyplot.subplots()\n",
    "grouped = df.groupby('label')\n",
    "for key, group in grouped:\n",
    "    group.plot(ax=ax, kind='scatter', x='x', y='y', label=key, color=colors[key].reshape(1,-1))\n",
    "pyplot.title('Original 2D Data from {} Clusters'.format(n_components))\n",
    "pyplot.show()"
   ]
  },
  {
   "cell_type": "markdown",
   "metadata": {},
   "source": [
    "### Train a Logistic Regression Model"
   ]
  },
  {
   "attachments": {},
   "cell_type": "markdown",
   "metadata": {},
   "source": [
    "## Greadient Descent Optimizers\n",
    "\n",
    "### Stochastic Gradient Descent (SGD)\n",
    "$\\theta = \\theta -  \\eta \\cdot \\nabla_{\\theta} J(θ) $\n",
    "\n",
    "### Momentum\n",
    "\n",
    "$\\nu_{t} = \\gamma \\nu_{t-1} + \\nabla_{\\theta} J(θ)$\n",
    "\n",
    "$\\theta = \\theta - \\nu_{t}$\n",
    "\n",
    "### Nesterov accelerated gradient\n",
    "\n",
    "$\\nu_{t} = \\gamma \\nu_{t-1} + \\nabla_{\\theta} J(θ - \\gamma \\nu_{t-1})$\n",
    "\n",
    "$\\theta = \\theta - \\nu_{t}$\n",
    "\n",
    "or \n",
    "\n",
    "$\\theta_{temp} = \\theta_{t} - \\gamma \\nu_{t-1}$\n",
    "\n",
    "$\\theta_{t+1} = \\theta_{temp} - \\nabla_{\\theta} J(θ)$\n",
    "\n",
    "$\\nu_{t} = \\gamma \\nu_{t-1} + \\nabla_{\\theta} J(θ)$\n",
    "\n",
    "### Adagrad\n",
    "\n",
    "$\\theta_{t+1} = \\theta_{t} - \\frac{\\eta}{\\sqrt{G_{t}+\\epsilon}} \\cdot g_{t}$\n",
    "\n",
    "where $G_{t} \\in \\mathbb{R}^{d\\times d}$ is a diagonal matrix where each diagonal element is the sum of the squares of the\n",
    "gradients up to time step $t$.\n",
    "\n",
    "### RMSprop\n",
    "\n",
    "$E[g^{2}]_{t} = \\beta E[g^{2}]_{t-1} + (1-\\beta )g^{2}_{t}$\n",
    "\n",
    "$\\theta_{t+1} = \\theta_{t} - \\frac{\\eta}{\\sqrt{E[g^{2}]_{t} +\\epsilon}} \\cdot g_{t}$\n",
    "\n",
    "where $E[g^{2}]$ is an exponentially decaying average of squared gradients.\n",
    "\n",
    "### Adam\n",
    "\n",
    "$m_{t} = \\beta_{1}m_{t-1}+(1-\\beta_{1})g_{t}$\n",
    "\n",
    "$\\nu_{t} = \\beta_{2} \\nu_{t-1} + (1-\\beta_{2})g^{2}_{t}$\n",
    "\n",
    "$ \\hat{m_{t}} =\\frac{m_{t}}{1-\\beta^{t}_{1}}$\n",
    "\n",
    "$ \\hat{\\nu_{t}} =\\frac{\\nu_{t}}{1-\\beta^{t}_{2}}$\n",
    "\n",
    "$\\theta_{t+1} = \\theta_{t} - \\frac{\\eta}{\\sqrt{\\hat{\\nu_{t}} +\\epsilon}} \\cdot \\hat{m_{t}}$\n",
    "\n",
    "reference: https://arxiv.org/pdf/1609.04747.pdf"
   ]
  },
  {
   "cell_type": "code",
   "execution_count": 6,
   "metadata": {},
   "outputs": [
    {
     "data": {
      "text/plain": [
       "PythonRDD[4] at RDD at PythonRDD.scala:53"
      ]
     },
     "execution_count": 6,
     "metadata": {},
     "output_type": "execute_result"
    }
   ],
   "source": [
    "# read X, y into rdd\n",
    "rdd_X = sc.parallelize(X)\n",
    "rdd_y = sc.parallelize(y)\n",
    "\n",
    "# split data into train and test\n",
    "# Add: map(lambda x: (x[0],np.append(x[1],1)))\n",
    "traindata, testdata = rdd_y.zip(rdd_X).randomSplit([0.9, 0.1], seed=12345)\n",
    "traindata.cache()\n",
    "\n",
    "# Optimization 1: The dataset has additional parameters that will be used as the intercept\n",
    "traindata1 = traindata.map(lambda x: (x[0],np.append(x[1],1)))\n",
    "traindata1.cache()"
   ]
  },
  {
   "cell_type": "code",
   "execution_count": 7,
   "metadata": {},
   "outputs": [
    {
     "name": "stdout",
     "output_type": "stream",
     "text": [
      "[(0, array([-1.18378037, -9.66095522]))]\n",
      "[(0, array([-1.18378037, -9.66095522,  1.        ]))]\n"
     ]
    }
   ],
   "source": [
    "print(traindata.take(1))\n",
    "print(traindata1.take(1))"
   ]
  },
  {
   "cell_type": "code",
   "execution_count": 8,
   "metadata": {},
   "outputs": [],
   "source": [
    "#1. Caclulate the training data size\n",
    "train_size = traindata.count()"
   ]
  },
  {
   "cell_type": "code",
   "execution_count": 9,
   "metadata": {},
   "outputs": [],
   "source": [
    "# The original version of the code\n",
    "def LogisticRegression(traindata=traindata,\n",
    "                       max_iteration = max_iter,\n",
    "                       learningRate = 0.01,\n",
    "                       regularization = 0.01,\n",
    "                       mini_batch_size = 512,\n",
    "                       tolerance = 10e-8,\n",
    "                       beta = 0.9,\n",
    "                       beta2 = 0.999,\n",
    "                       optimizer = 'SGD'  #optimizer: 'Momentum' / 'Adam' / 'Nesterov' / 'Adagrad' / 'RMSprop' / 'SGD' \n",
    "                      ):\n",
    "\n",
    "    # initialization\n",
    "    prev_cost = 0\n",
    "    L_cost = []\n",
    "    prev_validation = 0\n",
    "    train_size = traindata.count()\n",
    "\n",
    "    parameter_size = len(traindata.take(1)[0][1]) + 1\n",
    "    np.random.seed(0)\n",
    "    parameter_vector = np.random.normal(0, 0.1, parameter_size)\n",
    "#     parameter_vector = np.zeros(parameter_size) # initialize with zeros\n",
    "    momentum = np.zeros(parameter_size)\n",
    "    prev_mom = np.zeros(parameter_size)\n",
    "    second_mom = np.array(parameter_size)\n",
    "    gti = np.zeros(parameter_size)\n",
    "    epsilon = 10e-8\n",
    "    \n",
    "    for i in range(max_iteration):\n",
    "\n",
    "        bc_weights = parameter_vector[:-1]\n",
    "        bc1_weights = parameter_vector[-1]\n",
    "\n",
    "        min_batch = traindata.sample(False, mini_batch_size / train_size, 1 + i)\n",
    "\n",
    "        res = min_batch.treeAggregate((np.zeros(parameter_size), 0, 0),\\\n",
    "              lambda x, y:(x[0]\\\n",
    "                          + (np.append(y[1], 1)) * (-y[0] + (np.exp(np.dot(y[1], bc_weights) + bc1_weights)\\\n",
    "                          /(1 + np.exp(np.dot(y[1], bc_weights) + bc1_weights)))),\\\n",
    "                          x[1] \\\n",
    "                          + y[0] * (-(np.dot(y[1], bc_weights) + bc1_weights)) \\\n",
    "                          + np.log(1 + np.exp(np.dot(y[1],bc_weights)+ bc1_weights)),\\\n",
    "                          x[2] + 1),\n",
    "              lambda x, y:(x[0] + y[0], x[1] + y[1], x[2] + y[2]))\n",
    "\n",
    "        cost =  res[1]/res[2] + regularization * (np.square(parameter_vector).sum())\n",
    "\n",
    "        # calculate gradients\n",
    "        gradient_derivative = (1.0 / res[2]) * res[0] + 2 * regularization * parameter_vector\n",
    "        \n",
    "        if optimizer == 'SGD':\n",
    "            parameter_vector = parameter_vector - learningRate * gradient_derivative\n",
    "\n",
    "        if optimizer =='Momentum':\n",
    "            momentum = beta * momentum + learningRate * gradient_derivative\n",
    "            parameter_vector = parameter_vector - momentum\n",
    "            \n",
    "        if optimizer == 'Nesterov':\n",
    "            parameter_temp = parameter_vector - beta * prev_mom\n",
    "            parameter_vector = parameter_temp - learningRate * gradient_derivative\n",
    "            prev_mom = momentum\n",
    "            momentum = beta * momentum + learningRate * gradient_derivative\n",
    "            \n",
    "        if optimizer == 'Adam':\n",
    "            momentum = beta * momentum + (1 - beta) * gradient_derivative\n",
    "            second_mom = beta2 * second_mom + (1 - beta2) * (gradient_derivative**2)\n",
    "            momentum_ = momentum / (1 - beta**(i + 1))\n",
    "            second_mom_ = second_mom / (1 - beta2**(i + 1))\n",
    "            parameter_vector = parameter_vector - learningRate * momentum_ / (np.sqrt(second_mom_) + epsilon)\n",
    "\n",
    "        if optimizer == 'Adagrad':\n",
    "            gti += gradient_derivative**2\n",
    "            adj_grad = gradient_derivative / (np.sqrt(gti)  + epsilon)\n",
    "            parameter_vector = parameter_vector - learningRate  * adj_grad\n",
    "        \n",
    "        if optimizer == 'RMSprop':\n",
    "            sq_grad = gradient_derivative**2\n",
    "            exp_grad = beta * gti / (i + 1) + (1 - beta) * sq_grad\n",
    "            parameter_vector = parameter_vector - learningRate / np.sqrt(exp_grad + epsilon) * gradient_derivative\n",
    "            gti += sq_grad\n",
    "            \n",
    "        print(\"Iteration No.\", i, \" Cost=\", cost)\n",
    "        \n",
    "        # Stop if the cost is not descreasing\n",
    "        if abs(cost - prev_cost) < tolerance:\n",
    "            print(\"cost - prev_cost: \" + str(cost - prev_cost))\n",
    "            break\n",
    "        prev_cost = cost\n",
    "        L_cost.append(cost)\n",
    "        \n",
    "    return parameter_vector, L_cost"
   ]
  },
  {
   "cell_type": "code",
   "execution_count": 10,
   "metadata": {},
   "outputs": [],
   "source": [
    "# The optimized version of the code\n",
    "def LogisticRegression_optimized(traindata=traindata,\n",
    "                       max_iteration = max_iter,\n",
    "                       learningRate = 0.01,\n",
    "                       regularization = 0.01,\n",
    "                       mini_batch_size = 512,\n",
    "                       tolerance = 10e-8,\n",
    "                       beta = 0.9,\n",
    "                       beta2 = 0.999,\n",
    "                       optimizer = 'SGD',  #optimizer: 'Momentum' / 'Adam' / 'Nesterov' / 'Adagrad' / 'RMSprop' / 'SGD' \n",
    "                       train_size=1\n",
    "                      ):\n",
    "\n",
    "    # initialization\n",
    "    prev_cost = 0\n",
    "    L_cost = []\n",
    "    prev_validation = 0\n",
    "    ##########################################################################################\n",
    "    # Optimization 1: Remove count from the function. It is called 5 times.\n",
    "    ##########################################################################################\n",
    "    # train_size = traindata.count()\n",
    "\n",
    "    ##########################################################################################\n",
    "    # Optimization 2: Now,the intercept is in the vector. Remove +1\n",
    "    ##########################################################################################\n",
    "    parameter_size = len(traindata.take(1)[0][1])\n",
    "    np.random.seed(0)\n",
    "    parameter_vector = np.random.normal(0, 0.1, parameter_size)\n",
    "#     parameter_vector = np.zeros(parameter_size) # initialize with zeros\n",
    "    momentum = np.zeros(parameter_size)\n",
    "    prev_mom = np.zeros(parameter_size)\n",
    "    second_mom = np.array(parameter_size)\n",
    "    gti = np.zeros(parameter_size)\n",
    "    epsilon = 10e-8\n",
    "    \n",
    "    for i in range(max_iteration):\n",
    "        bc_weights = parameter_vector\n",
    "        # Create a mini batch as a sample from the data. \n",
    "        # The mini bach is then used to update the model parameters insteade of the whole dataset.\n",
    "        min_batch = traindata.sample(False, mini_batch_size / train_size, 1 + i)\n",
    "\n",
    "        ##########################################################################################\n",
    "        # Optimization 3: Calculation optimization\n",
    "        ##########################################################################################\n",
    "        # res = min_batch.treeAggregate((np.zeros(parameter_size), 0, 0),\\\n",
    "        #       lambda x, y:(x[0]\\\n",
    "        #                   + (y[1]) * (-y[0] + (np.exp(np.dot(y[1], bc_weights))\\\n",
    "        #                   /(1 + np.exp(np.dot(y[1], bc_weights))))),\\\n",
    "        #                   x[1] \\\n",
    "        #                   + y[0] * (-(np.dot(y[1], bc_weights))) \\\n",
    "        #                   + np.log(1 + np.exp(np.dot(y[1],bc_weights))),\\\n",
    "        #                   x[2] + 1),\n",
    "        #       lambda x, y:(x[0] + y[0], x[1] + y[1], x[2] + y[2]))\n",
    "        \n",
    "        res = min_batch.treeAggregate((np.zeros(parameter_size), 0, 0),\\\n",
    "              lambda x, y:(x[0]\\\n",
    "                          + (y[1]) * (-y[0] + (1/(np.exp(-np.dot(y[1], bc_weights))+1))),\\\n",
    "                          x[1] \\\n",
    "                          + y[0] * (-(np.dot(y[1], bc_weights))) \\\n",
    "                          + np.log(1 + np.exp(np.dot(y[1],bc_weights))),\\\n",
    "                          x[2] + 1),\n",
    "              lambda x, y:(x[0] + y[0], x[1] + y[1], x[2] + y[2]))        \n",
    "\n",
    "        gradients = res[0]\n",
    "        sum_cost = res[1]\n",
    "        num_samples = res[2]\n",
    "        # Calculate the cost and use the regularization\n",
    "        cost =  sum_cost/num_samples + regularization * (np.square(parameter_vector).sum())\n",
    "\n",
    "        # Calculate the gradients and use the regularization\n",
    "        gradient_derivative = (1.0 / num_samples) * gradients + 2 * regularization * parameter_vector\n",
    "        \n",
    "        if optimizer == 'SGD':\n",
    "            parameter_vector = parameter_vector - learningRate * gradient_derivative\n",
    "\n",
    "        if optimizer =='Momentum':\n",
    "            momentum = beta * momentum + learningRate * gradient_derivative\n",
    "            parameter_vector = parameter_vector - momentum\n",
    "            \n",
    "        if optimizer == 'Nesterov':\n",
    "            parameter_temp = parameter_vector - beta * prev_mom\n",
    "            parameter_vector = parameter_temp - learningRate * gradient_derivative\n",
    "            prev_mom = momentum\n",
    "            momentum = beta * momentum + learningRate * gradient_derivative\n",
    "            \n",
    "        if optimizer == 'Adam':\n",
    "            momentum = beta * momentum + (1 - beta) * gradient_derivative\n",
    "            second_mom = beta2 * second_mom + (1 - beta2) * (gradient_derivative**2)\n",
    "            momentum_ = momentum / (1 - beta**(i + 1))\n",
    "            second_mom_ = second_mom / (1 - beta2**(i + 1))\n",
    "            parameter_vector = parameter_vector - learningRate * momentum_ / (np.sqrt(second_mom_) + epsilon)\n",
    "\n",
    "        if optimizer == 'Adagrad':\n",
    "            gti += gradient_derivative**2\n",
    "            adj_grad = gradient_derivative / (np.sqrt(gti)  + epsilon)\n",
    "            parameter_vector = parameter_vector - learningRate  * adj_grad\n",
    "        \n",
    "        if optimizer == 'RMSprop':\n",
    "            sq_grad = gradient_derivative**2\n",
    "            exp_grad = beta * gti / (i + 1) + (1 - beta) * sq_grad\n",
    "            parameter_vector = parameter_vector - learningRate / np.sqrt(exp_grad + epsilon) * gradient_derivative\n",
    "            gti += sq_grad\n",
    "            \n",
    "            \n",
    "        print(\"Iteration No.\", i, \" Cost=\", cost)\n",
    "        \n",
    "        # Stop if the cost is not decreasing\n",
    "        if abs(cost - prev_cost) < tolerance:\n",
    "            print(\"cost - prev_cost: \" + str(cost - prev_cost))\n",
    "            break\n",
    "        prev_cost = cost\n",
    "        L_cost.append(cost)\n",
    "        \n",
    "    return parameter_vector, L_cost"
   ]
  },
  {
   "cell_type": "markdown",
   "metadata": {},
   "source": [
    "### Model Training"
   ]
  },
  {
   "cell_type": "markdown",
   "metadata": {},
   "source": [
    "#### SGD"
   ]
  },
  {
   "cell_type": "code",
   "execution_count": 11,
   "metadata": {
    "scrolled": true
   },
   "outputs": [
    {
     "name": "stdout",
     "output_type": "stream",
     "text": [
      "Iteration No. 0  Cost= 0.5310081442378464\n",
      "Iteration No. 1  Cost= 0.5077743594273991\n",
      "Iteration No. 2  Cost= 0.489109059369825\n",
      "Iteration No. 3  Cost= 0.4726070907340831\n",
      "Iteration No. 4  Cost= 0.4610158334486895\n"
     ]
    }
   ],
   "source": [
    "# Call to the original function\n",
    "parameter_vector_sgd, L_cost_sgd = LogisticRegression(traindata=traindata,\n",
    "                       max_iteration = 5,\n",
    "                       learningRate = 0.01,\n",
    "                       regularization = 0,\n",
    "                       mini_batch_size = 50000,\n",
    "                       tolerance = 10e-8,\n",
    "                       optimizer = 'SGD',\n",
    "                      )"
   ]
  },
  {
   "cell_type": "code",
   "execution_count": 12,
   "metadata": {},
   "outputs": [
    {
     "name": "stdout",
     "output_type": "stream",
     "text": [
      "Iteration No. 0  Cost= 0.5310081442378464\n",
      "Iteration No. 1  Cost= 0.5077743594273991\n",
      "Iteration No. 2  Cost= 0.489109059369825\n",
      "Iteration No. 3  Cost= 0.4726070907340831\n",
      "Iteration No. 4  Cost= 0.4610158334486895\n"
     ]
    }
   ],
   "source": [
    "# Call of the optimzed function wiht the same parameters\n",
    "parameter_vector_sgd1, L_cost_sgd1 = LogisticRegression_optimized(traindata=traindata1,\n",
    "                       max_iteration = 5,\n",
    "                       learningRate = 0.01,\n",
    "                       regularization = 0,\n",
    "                       mini_batch_size = 50000,\n",
    "                       tolerance = 10e-8,\n",
    "                       optimizer = 'SGD',\n",
    "                       train_size = train_size\n",
    "                      )"
   ]
  },
  {
   "cell_type": "markdown",
   "metadata": {},
   "source": [
    "#### Evaluate the model"
   ]
  },
  {
   "cell_type": "code",
   "execution_count": 13,
   "metadata": {},
   "outputs": [
    {
     "data": {
      "text/plain": [
       "[(1, array([ 0.69882203, -2.14009611,  1.        ])),\n",
       " (1, array([ 0.18499889, -1.20987419,  1.        ])),\n",
       " (1, array([ 0.65973693, -1.3079504 ,  1.        ]))]"
      ]
     },
     "execution_count": 13,
     "metadata": {},
     "output_type": "execute_result"
    }
   ],
   "source": [
    "# Test data need to be in the same format as the train data\n",
    "testdata1 = testdata.map(lambda x: (x[0],np.append(x[1],1)))\n",
    "test_num = testdata1.count()\n",
    "testdata1.take(3)"
   ]
  },
  {
   "cell_type": "code",
   "execution_count": 14,
   "metadata": {},
   "outputs": [
    {
     "name": "stdout",
     "output_type": "stream",
     "text": [
      "[0.19726958 0.10068427 0.10116837]\n"
     ]
    }
   ],
   "source": [
    "# Parameter vector size and test sample size must match.\n",
    "print(parameter_vector_sgd1)"
   ]
  },
  {
   "cell_type": "code",
   "execution_count": 15,
   "metadata": {},
   "outputs": [
    {
     "name": "stdout",
     "output_type": "stream",
     "text": [
      "--Contingency matrix--\n",
      " TP:  4787  FP:     0\n",
      " FN:   289  TN:  4946\n",
      "----------------------\n",
      "Accuracy = 0.9711634404310517  \n",
      "F1 = 0.9706985704146811\n"
     ]
    }
   ],
   "source": [
    "# Create an RDD wiht the true value and the predicted value (true, predicted)\n",
    "predictions = testdata1.map(lambda x: (x[0], 1 if np.dot(x[1],parameter_vector_sgd1)>0 else 0))\n",
    "\n",
    "true_positive = predictions.map(lambda x: 1 if (x[0]== 1) and (x[1]==1) else 0).reduce(lambda x,y:x+y)\n",
    "false_positive = predictions.map(lambda x: 1 if (x[0]== 0) and (x[1]==1) else 0).reduce(lambda x,y:x+y)\n",
    "\n",
    "true_negative = predictions.map(lambda x: 1 if (x[0]== 0) and (x[1]==0) else 0).reduce(lambda x,y:x+y)\n",
    "false_negative = predictions.map(lambda x: 1 if (x[0]== 1) and (x[1]==0) else 0).reduce(lambda x,y:x+y)\n",
    "\n",
    "# Print the Contingency matrix\n",
    "print(\"--Contingency matrix--\")\n",
    "print(f\" TP:{true_positive:6}  FP:{false_positive:6}\")\n",
    "print(f\" FN:{false_negative:6}  TN:{true_negative:6}\")\n",
    "print(\"----------------------\")\n",
    "\n",
    "# Calculate the Accuracy and the F1\n",
    "accuracy = (true_positive+true_negative)/(test_num)\n",
    "f1 = true_positive/(true_positive+0.5*(false_positive+false_negative))\n",
    "print(f\"Accuracy = {accuracy}  \\nF1 = {f1}\")"
   ]
  },
  {
   "cell_type": "markdown",
   "metadata": {},
   "source": [
    "#### Adam"
   ]
  },
  {
   "cell_type": "code",
   "execution_count": 16,
   "metadata": {},
   "outputs": [
    {
     "name": "stdout",
     "output_type": "stream",
     "text": [
      "Iteration No. 0  Cost= 0.5270205240293084\n",
      "Iteration No. 1  Cost= 0.5292553279565456\n",
      "Iteration No. 2  Cost= 0.5329195391918249\n",
      "Iteration No. 3  Cost= 0.5280540593229041\n",
      "Iteration No. 4  Cost= 0.5262573909668428\n"
     ]
    }
   ],
   "source": [
    "parameter_vector_adam, L_cost_adam = LogisticRegression(traindata=traindata,\n",
    "                       max_iteration = 5,\n",
    "                       learningRate = 0.01,\n",
    "                       regularization = 0.01,\n",
    "                       mini_batch_size = 512,\n",
    "                       tolerance = 10e-8,\n",
    "                       beta2 = 0.999,\n",
    "                       optimizer = 'Adam'\n",
    "                      )"
   ]
  },
  {
   "cell_type": "markdown",
   "metadata": {},
   "source": [
    "#### Momentum"
   ]
  },
  {
   "cell_type": "code",
   "execution_count": 17,
   "metadata": {
    "scrolled": true
   },
   "outputs": [
    {
     "name": "stdout",
     "output_type": "stream",
     "text": [
      "Iteration No. 0  Cost= 0.5270205240293084\n",
      "Iteration No. 1  Cost= 0.504932041203771\n",
      "Iteration No. 2  Cost= 0.4752646219015988\n",
      "Iteration No. 3  Cost= 0.43063867348580454\n",
      "Iteration No. 4  Cost= 0.40347216232867783\n"
     ]
    }
   ],
   "source": [
    "parameter_vector_momentum, L_cost_momentum = LogisticRegression(traindata=traindata,\n",
    "                       max_iteration = 5,\n",
    "                       learningRate = 0.01,\n",
    "                       regularization = 0.01,\n",
    "                       mini_batch_size = 512,\n",
    "                       tolerance = 10e-8,\n",
    "                       optimizer = 'Momentum'\n",
    "                      )"
   ]
  },
  {
   "cell_type": "markdown",
   "metadata": {},
   "source": [
    "#### Nesterov"
   ]
  },
  {
   "cell_type": "code",
   "execution_count": 18,
   "metadata": {
    "scrolled": true
   },
   "outputs": [
    {
     "name": "stdout",
     "output_type": "stream",
     "text": [
      "Iteration No. 0  Cost= 0.5270205240293084\n",
      "Iteration No. 1  Cost= 0.504932041203771\n",
      "Iteration No. 2  Cost= 0.4923548372979053\n",
      "Iteration No. 3  Cost= 0.45376086108737446\n",
      "Iteration No. 4  Cost= 0.42242465307313526\n"
     ]
    }
   ],
   "source": [
    "parameter_vector_nesterov, L_cost_nesterov = LogisticRegression(traindata=traindata,\n",
    "                       max_iteration = 5,\n",
    "                       learningRate = 0.01,\n",
    "                       regularization = 0.01,\n",
    "                       mini_batch_size = 512,\n",
    "                       tolerance = 10e-8,\n",
    "                       optimizer = 'Nesterov'\n",
    "                      )"
   ]
  },
  {
   "cell_type": "markdown",
   "metadata": {},
   "source": [
    "#### Adagrad"
   ]
  },
  {
   "cell_type": "code",
   "execution_count": 19,
   "metadata": {},
   "outputs": [
    {
     "name": "stdout",
     "output_type": "stream",
     "text": [
      "Iteration No. 0  Cost= 0.5270205240293084\n",
      "Iteration No. 1  Cost= 0.5104204638152968\n",
      "Iteration No. 2  Cost= 0.5032269930693406\n",
      "Iteration No. 3  Cost= 0.4883370568693622\n",
      "Iteration No. 4  Cost= 0.4795339990009861\n"
     ]
    }
   ],
   "source": [
    "parameter_vector_adagrad, L_cost_adagrad = LogisticRegression(traindata=traindata,\n",
    "                       max_iteration = 5,\n",
    "                       learningRate = 0.01,\n",
    "                       regularization = 0.01,\n",
    "                       mini_batch_size = 512,\n",
    "                       tolerance = 10e-8,\n",
    "                       optimizer = 'Adagrad'\n",
    "                      )"
   ]
  },
  {
   "cell_type": "markdown",
   "metadata": {},
   "source": [
    "#### RMSprop"
   ]
  },
  {
   "cell_type": "code",
   "execution_count": 20,
   "metadata": {
    "scrolled": true
   },
   "outputs": [
    {
     "name": "stdout",
     "output_type": "stream",
     "text": [
      "Iteration No. 0  Cost= 0.5270205240293084\n",
      "Iteration No. 1  Cost= 0.4724224256645872\n",
      "Iteration No. 2  Cost= 0.46022064012841146\n",
      "Iteration No. 3  Cost= 0.4381317471022344\n",
      "Iteration No. 4  Cost= 0.4238202858995442\n"
     ]
    }
   ],
   "source": [
    "parameter_vector_rmsprop, L_cost_rmsprop = LogisticRegression(traindata=traindata,\n",
    "                       max_iteration = 5,\n",
    "                       learningRate = 0.01,\n",
    "                       regularization = 0.01,\n",
    "                       mini_batch_size = 512,\n",
    "                       tolerance = 10e-8,\n",
    "                       optimizer = 'RMSprop'\n",
    "                      )"
   ]
  },
  {
   "cell_type": "markdown",
   "metadata": {},
   "source": [
    "### Optimizers Comparison"
   ]
  },
  {
   "cell_type": "code",
   "execution_count": 21,
   "metadata": {},
   "outputs": [
    {
     "data": {
      "image/png": "[encoded data removed]",
      "text/plain": [
       "<Figure size 640x480 with 1 Axes>"
      ]
     },
     "metadata": {},
     "output_type": "display_data"
    }
   ],
   "source": [
    "# Data\n",
    "df = pd.DataFrame({'iteration': range(1, 5+1), \n",
    "                     'cost_momentum': L_cost_momentum, \n",
    "                     'cost_adam': L_cost_adam, \n",
    "                     'cost_sgd': L_cost_sgd,\n",
    "                     'cost_rmsprop': L_cost_rmsprop,\n",
    "                     'cost_adagrad': L_cost_adagrad,\n",
    "                     'cost_nesterov': L_cost_nesterov})\n",
    " \n",
    "# multiple line plots\n",
    "pyplot.plot( 'iteration', 'cost_momentum', data=df, marker='', color='skyblue', linewidth=2)\n",
    "pyplot.plot( 'iteration', 'cost_adam', data=df, marker='', color='red', linewidth=2)\n",
    "pyplot.plot( 'iteration', 'cost_sgd', data=df, marker='', color='green', linewidth=2)\n",
    "pyplot.plot( 'iteration', 'cost_rmsprop', data=df, marker='', color='purple', linewidth=2)\n",
    "pyplot.plot( 'iteration', 'cost_adagrad', data=df, marker='', color='darkblue', linewidth=2)\n",
    "pyplot.plot( 'iteration', 'cost_nesterov', data=df, marker='', color='grey', linewidth=2)\n",
    "# show legend\n",
    "pyplot.legend()\n",
    "pyplot.title('Cost Comparison among Gradient Descent Optimizers')\n",
    "# show graph\n",
    "pyplot.show()"
   ]
  },
  {
   "cell_type": "code",
   "execution_count": null,
   "metadata": {},
   "outputs": [],
   "source": []
  }
 ],
 "metadata": {
  "kernelspec": {
   "display_name": "spark",
   "language": "python",
   "name": "python3"
  },
  "language_info": {
   "codemirror_mode": {
    "name": "ipython",
    "version": 3
   },
   "file_extension": ".py",
   "mimetype": "text/x-python",
   "name": "python",
   "nbconvert_exporter": "python",
   "pygments_lexer": "ipython3",
   "version": "3.10.14"
  },
  "vscode": {
   "interpreter": {
    "hash": "9db6cbf0fd79f8e79653fe7b0c50b956ca6e525ee712295da3c66f75e4fe96ce"
   }
  }
 },
 "nbformat": 4,
 "nbformat_minor": 4
}
