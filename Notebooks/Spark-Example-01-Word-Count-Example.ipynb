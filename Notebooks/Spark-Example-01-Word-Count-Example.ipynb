{
 "cells": [
  {
   "cell_type": "code",
   "execution_count": null,
   "metadata": {},
   "outputs": [],
   "source": [
    "# import findspark\n",
    "# findspark.init()\n",
    "from pyspark import SparkContext\n",
    "from pyspark.sql import SparkSession\n",
    "sc = SparkContext(\"local\")\n",
    "spark = SparkSession.builder.getOrCreate()"
   ]
  },
  {
   "cell_type": "code",
   "execution_count": 2,
   "metadata": {},
   "outputs": [
    {
     "name": "stdout",
     "output_type": "stream",
     "text": [
      "3.10.0 | packaged by conda-forge | (default, Nov 10 2021, 13:20:59) [MSC v.1916 64 bit (AMD64)]\n"
     ]
    }
   ],
   "source": [
    "# print python version\n",
    "import sys\n",
    "print(sys.version)"
   ]
  },
  {
   "cell_type": "code",
   "execution_count": 3,
   "metadata": {},
   "outputs": [
    {
     "data": {
      "text/html": [
       "\n",
       "        <div>\n",
       "            <p><b>SparkContext</b></p>\n",
       "\n",
       "            <p><a href=\"http://DT-Inspiron.lan:4040\">Spark UI</a></p>\n",
       "\n",
       "            <dl>\n",
       "              <dt>Version</dt>\n",
       "                <dd><code>v3.2.2</code></dd>\n",
       "              <dt>Master</dt>\n",
       "                <dd><code>local</code></dd>\n",
       "              <dt>AppName</dt>\n",
       "                <dd><code>pyspark-shell</code></dd>\n",
       "            </dl>\n",
       "        </div>\n",
       "        "
      ],
      "text/plain": [
       "<SparkContext master=local appName=pyspark-shell>"
      ]
     },
     "execution_count": 3,
     "metadata": {},
     "output_type": "execute_result"
    }
   ],
   "source": [
    "sc"
   ]
  },
  {
   "cell_type": "code",
   "execution_count": 4,
   "metadata": {},
   "outputs": [
    {
     "name": "stdout",
     "output_type": "stream",
     "text": [
      "['Apache Spark is a unified analytics engine for large-scale data processing.', 'It provides high-level APIs in Java, Scala, Python and R', 'it also supports a rich set of higher-level tools including Spark SQL', 'MLlib for machine learning', 'GraphX for graph processing', 'Structured Streaming for incremental computation and stream processing']\n",
      "['Apache', 'Spark', 'is', 'a', 'unified', 'analytics', 'engine', 'for', 'large-scale', 'data', 'processing.', 'It', 'provides', 'high-level', 'APIs', 'in', 'Java,', 'Scala,', 'Python', 'and', 'R', 'it', 'also', 'supports', 'a', 'rich', 'set', 'of', 'higher-level', 'tools', 'including', 'Spark', 'SQL', 'MLlib', 'for', 'machine', 'learning', 'GraphX', 'for', 'graph', 'processing', 'Structured', 'Streaming', 'for', 'incremental', 'computation', 'and', 'stream', 'processing']\n"
     ]
    }
   ],
   "source": [
    "# Split sentence into words\n",
    "lines = sc.parallelize([\n",
    "    \"Apache Spark is a unified analytics engine for large-scale data processing.\",\n",
    "    \"It provides high-level APIs in Java, Scala, Python and R\",\n",
    "    \"it also supports a rich set of higher-level tools including Spark SQL\",\n",
    "    \"MLlib for machine learning\",\n",
    "    \"GraphX for graph processing\",\n",
    "    \"Structured Streaming for incremental computation and stream processing\"\n",
    " ])\n",
    "words = lines.flatMap(lambda x: x.split(' '))\n",
    "print(lines.collect())\n",
    "print(words.collect())"
   ]
  },
  {
   "cell_type": "code",
   "execution_count": 5,
   "metadata": {},
   "outputs": [
    {
     "name": "stdout",
     "output_type": "stream",
     "text": [
      "[('Apache', 1), ('Spark', 1), ('is', 1), ('a', 1), ('unified', 1), ('analytics', 1), ('engine', 1), ('for', 1), ('large-scale', 1), ('data', 1), ('processing.', 1), ('It', 1), ('provides', 1), ('high-level', 1), ('APIs', 1), ('in', 1), ('Java,', 1), ('Scala,', 1), ('Python', 1), ('and', 1), ('R', 1), ('it', 1), ('also', 1), ('supports', 1), ('a', 1), ('rich', 1), ('set', 1), ('of', 1), ('higher-level', 1), ('tools', 1), ('including', 1), ('Spark', 1), ('SQL', 1), ('MLlib', 1), ('for', 1), ('machine', 1), ('learning', 1), ('GraphX', 1), ('for', 1), ('graph', 1), ('processing', 1), ('Structured', 1), ('Streaming', 1), ('for', 1), ('incremental', 1), ('computation', 1), ('and', 1), ('stream', 1), ('processing', 1)]\n"
     ]
    }
   ],
   "source": [
    "rdd1 = words.map(lambda x: (x,1))\n",
    "print(rdd1.collect())"
   ]
  },
  {
   "cell_type": "code",
   "execution_count": 6,
   "metadata": {},
   "outputs": [
    {
     "name": "stdout",
     "output_type": "stream",
     "text": [
      "[('Apache', 1), ('Spark', 2), ('is', 1), ('a', 2), ('unified', 1), ('analytics', 1), ('engine', 1), ('for', 4), ('large-scale', 1), ('data', 1), ('processing.', 1), ('It', 1), ('provides', 1), ('high-level', 1), ('APIs', 1), ('in', 1), ('Java,', 1), ('Scala,', 1), ('Python', 1), ('and', 2), ('R', 1), ('it', 1), ('also', 1), ('supports', 1), ('rich', 1), ('set', 1), ('of', 1), ('higher-level', 1), ('tools', 1), ('including', 1), ('SQL', 1), ('MLlib', 1), ('machine', 1), ('learning', 1), ('GraphX', 1), ('graph', 1), ('processing', 2), ('Structured', 1), ('Streaming', 1), ('incremental', 1), ('computation', 1), ('stream', 1)]\n"
     ]
    }
   ],
   "source": [
    "rdd2 = rdd1.reduceByKey(lambda x, y : x+y)\n",
    "print(rdd2.collect())"
   ]
  },
  {
   "cell_type": "code",
   "execution_count": 7,
   "metadata": {},
   "outputs": [
    {
     "name": "stdout",
     "output_type": "stream",
     "text": [
      "[('for', 4), ('Spark', 2), ('a', 2), ('and', 2), ('processing', 2), ('Apache', 1), ('is', 1), ('unified', 1), ('analytics', 1), ('engine', 1)]\n"
     ]
    }
   ],
   "source": [
    "top = rdd2.top(10, lambda x:x[1])\n",
    "print(top)"
   ]
  },
  {
   "cell_type": "code",
   "execution_count": 8,
   "metadata": {},
   "outputs": [
    {
     "name": "stdout",
     "output_type": "stream",
     "text": [
      "[('unified', 1), ('tools', 1), ('supports', 1), ('stream', 1), ('set', 1), ('rich', 1), ('provides', 1), ('processing.', 1), ('processing', 2), ('of', 1), ('machine', 1), ('learning', 1), ('large-scale', 1), ('it', 1), ('is', 1), ('incremental', 1), ('including', 1), ('in', 1), ('higher-level', 1), ('high-level', 1), ('graph', 1), ('for', 4), ('engine', 1), ('data', 1), ('computation', 1), ('and', 2), ('analytics', 1), ('also', 1), ('a', 2), ('Structured', 1), ('Streaming', 1), ('Spark', 2), ('Scala,', 1), ('SQL', 1), ('R', 1), ('Python', 1), ('MLlib', 1), ('Java,', 1), ('It', 1), ('GraphX', 1), ('Apache', 1), ('APIs', 1)]\n"
     ]
    }
   ],
   "source": [
    "print(rdd2.top(50))"
   ]
  },
  {
   "attachments": {},
   "cell_type": "markdown",
   "metadata": {},
   "source": [
    "# Optimized version"
   ]
  },
  {
   "cell_type": "code",
   "execution_count": 10,
   "metadata": {},
   "outputs": [
    {
     "name": "stdout",
     "output_type": "stream",
     "text": [
      "[('for', 4), ('processing', 3), ('spark', 2), ('a', 2), ('it', 2), ('and', 2), ('apache', 1), ('is', 1), ('unified', 1), ('analytics', 1)]\n"
     ]
    }
   ],
   "source": [
    "top_words = lines.flatMap(lambda x: x.split(' '))\\\n",
    "        .map(lambda x: x.lower())\\\n",
    "        .map(lambda x: x.replace(\".\",\"\").replace(\",\",\"\"))\\\n",
    "        .map(lambda x: (x,1))\\\n",
    "        .reduceByKey(lambda x, y: x+y)\\\n",
    "        .top(10, lambda x: x[1])\n",
    "print(top_words)            "
   ]
  },
  {
   "cell_type": "code",
   "execution_count": null,
   "metadata": {},
   "outputs": [],
   "source": []
  }
 ],
 "metadata": {
  "kernelspec": {
   "display_name": "Python 3",
   "language": "python",
   "name": "python3"
  },
  "language_info": {
   "codemirror_mode": {
    "name": "ipython",
    "version": 3
   },
   "file_extension": ".py",
   "mimetype": "text/x-python",
   "name": "python",
   "nbconvert_exporter": "python",
   "pygments_lexer": "ipython3",
   "version": "3.10.0"
  }
 },
 "nbformat": 4,
 "nbformat_minor": 1
}
