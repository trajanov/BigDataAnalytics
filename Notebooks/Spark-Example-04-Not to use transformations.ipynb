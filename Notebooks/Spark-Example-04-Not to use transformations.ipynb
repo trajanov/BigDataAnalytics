{
 "cells": [
  {
   "cell_type": "markdown",
   "metadata": {},
   "source": [
    "# Spark RDD Transformations"
   ]
  },
  {
   "cell_type": "code",
   "execution_count": 1,
   "metadata": {},
   "outputs": [],
   "source": [
    "import findspark\n",
    "findspark.init()\n",
    "from pyspark import SparkContext\n",
    "from pyspark.sql import SparkSession\n",
    "sc = SparkContext(\"local\")\n",
    "spark = SparkSession.builder.getOrCreate()"
   ]
  },
  {
   "cell_type": "markdown",
   "metadata": {},
   "source": [
    "# Try not to use the following transformations\n",
    "\n",
    "It will cause a huge schuffel of all of the data items with the same key to one of cluster nodes and cause some cluster problems when data is large. "
   ]
  },
  {
   "cell_type": "markdown",
   "metadata": {},
   "source": [
    "**groupByKey([numPartitions])**\n",
    "\n",
    "when called on a dataset of **(K, V)** pairs, returns a dataset of **(K, Seq[V])** pairs"
   ]
  },
  {
   "cell_type": "code",
   "execution_count": 2,
   "metadata": {},
   "outputs": [
    {
     "data": {
      "text/plain": [
       "[('the', <pyspark.resultiterable.ResultIterable at 0x2e17ff0f4c0>),\n",
       " ('for', <pyspark.resultiterable.ResultIterable at 0x2e17ff0eda0>)]"
      ]
     },
     "execution_count": 2,
     "metadata": {},
     "output_type": "execute_result"
    }
   ],
   "source": [
    "rdd2 = sc.parallelize([('the', 1), ('the', 1), ('the', 2), ('for', 1), ('for', 2),('for', 1)])\n",
    "\n",
    "rdd2.groupByKey().collect()\n"
   ]
  },
  {
   "cell_type": "code",
   "execution_count": 3,
   "metadata": {},
   "outputs": [
    {
     "data": {
      "text/plain": [
       "[4, 4]"
      ]
     },
     "execution_count": 3,
     "metadata": {},
     "output_type": "execute_result"
    }
   ],
   "source": [
    "rdd2.groupByKey().map(lambda x: sum(x[1])).collect()\n"
   ]
  },
  {
   "cell_type": "markdown",
   "metadata": {},
   "source": [
    "**sortByKey([ascending], [numPartitions])**\n",
    "\n",
    "When called on a dataset of **(K, V)** pairs where K implements Ordered, returns a dataset of **(K, V)** pairs sorted by keys in ascending or descending order, as specified in the boolean ascending argument"
   ]
  },
  {
   "cell_type": "code",
   "execution_count": 4,
   "metadata": {},
   "outputs": [],
   "source": [
    "# We create here an example text data. \n",
    "a = [('What Will It Take for BU Commuters to Leave Their Cars for the MBTA? University\\\n",
    "      boosts T pass subsidies to cover half the cost, raises parking fees, all part of \\\n",
    "      broader strategy to build a greener BU')]\n",
    "rdd = sc.parallelize(a) \n",
    "counts = rdd.flatMap(lambda x: x.split(' ')).map(lambda x: (x, 1))\n",
    "\n"
   ]
  },
  {
   "cell_type": "code",
   "execution_count": 5,
   "metadata": {},
   "outputs": [
    {
     "data": {
      "text/plain": [
       "[('What', 1),\n",
       " ('Will', 1),\n",
       " ('It', 1),\n",
       " ('Take', 1),\n",
       " ('for', 1),\n",
       " ('BU', 1),\n",
       " ('Commuters', 1),\n",
       " ('to', 1),\n",
       " ('Leave', 1),\n",
       " ('Their', 1),\n",
       " ('Cars', 1),\n",
       " ('for', 1),\n",
       " ('the', 1),\n",
       " ('MBTA?', 1),\n",
       " ('University', 1),\n",
       " ('', 1),\n",
       " ('', 1),\n",
       " ('', 1),\n",
       " ('', 1),\n",
       " ('', 1),\n",
       " ('boosts', 1),\n",
       " ('T', 1),\n",
       " ('pass', 1),\n",
       " ('subsidies', 1),\n",
       " ('to', 1),\n",
       " ('cover', 1),\n",
       " ('half', 1),\n",
       " ('the', 1),\n",
       " ('cost,', 1),\n",
       " ('raises', 1),\n",
       " ('parking', 1),\n",
       " ('fees,', 1),\n",
       " ('all', 1),\n",
       " ('part', 1),\n",
       " ('of', 1),\n",
       " ('', 1),\n",
       " ('', 1),\n",
       " ('', 1),\n",
       " ('', 1),\n",
       " ('', 1),\n",
       " ('', 1),\n",
       " ('broader', 1),\n",
       " ('strategy', 1),\n",
       " ('to', 1),\n",
       " ('build', 1),\n",
       " ('a', 1),\n",
       " ('greener', 1),\n",
       " ('BU', 1)]"
      ]
     },
     "execution_count": 5,
     "metadata": {},
     "output_type": "execute_result"
    }
   ],
   "source": [
    "counts.collect()"
   ]
  },
  {
   "cell_type": "code",
   "execution_count": null,
   "metadata": {},
   "outputs": [],
   "source": []
  },
  {
   "cell_type": "code",
   "execution_count": null,
   "metadata": {},
   "outputs": [],
   "source": []
  }
 ],
 "metadata": {
  "kernelspec": {
   "display_name": "spark",
   "language": "python",
   "name": "python3"
  },
  "language_info": {
   "codemirror_mode": {
    "name": "ipython",
    "version": 3
   },
   "file_extension": ".py",
   "mimetype": "text/x-python",
   "name": "python",
   "nbconvert_exporter": "python",
   "pygments_lexer": "ipython3",
   "version": "3.10.14"
  },
  "vscode": {
   "interpreter": {
    "hash": "9db6cbf0fd79f8e79653fe7b0c50b956ca6e525ee712295da3c66f75e4fe96ce"
   }
  }
 },
 "nbformat": 4,
 "nbformat_minor": 2
}
