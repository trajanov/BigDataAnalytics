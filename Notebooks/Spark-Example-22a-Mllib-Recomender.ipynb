{
 "cells": [
  {
   "attachments": {},
   "cell_type": "markdown",
   "metadata": {},
   "source": [
    "# Alternating Least Squares (ALS)\n",
    "\n",
    "Alternating Least Squares (ALS) is a computational method used in the field of data science, specifically for the development of recommendation systems. It's a matrix factorization technique that decomposes a user-item interaction matrix into two lower dimensionality matrices, optimizing for the least squares problem. This method handles the issues of scalability and sparsity quite efficiently, which is why it is widely used in large-scale collaborative filtering problems.\n",
    "\n",
    "## Definition\n",
    "\n",
    "The main idea of ALS is to treat one set of latent factors as constant while optimizing for the other, and vice versa. This simplifies the optimization problem into a quadratic form that can be solved directly with a unique solution.\n",
    "\n",
    "Assume we have a user-item matrix $R$ of size $m \\times n$, where $m$ is the number of users and $n$ is the number of items. We aim to find two matrices $U$ of size $m \\times k$ (user factors) and $V$ of size $n \\times k$ (item factors), such that $R \\approx U^TV$.\n",
    "\n",
    "The objective function of this least squares problem can be written as:\n",
    "\n",
    "$$\n",
    "\\min_{U,V} ||R - U^TV||^2 = \\min_{U,V} \\sum_{i,j} (R_{i,j} - \\mathbf{u}_i \\cdot \\mathbf{v}_j)^2\n",
    "$$\n",
    "\n",
    "where $\\mathbf{u}_i$ is the $i$th row of $U$ (the $i$th user's latent factors), and $\\mathbf{v}_j$ is the $j$th row of $V$ (the $j$th item's latent factors). \n",
    "\n",
    "## Alternating Least Squares Process\n",
    "\n",
    "The ALS algorithm alternates between fixing $U$ and solving for $V$, and fixing $V$ and solving for $U$. \n",
    "\n",
    "### Step 1: Initialization\n",
    "\n",
    "Initialize the user factor matrix $U$ and item factor matrix $V$ with some values, often small random numbers.\n",
    "\n",
    "### Step 2: Fix $U$, Solve for $V$\n",
    "\n",
    "With $U$ fixed, each $\\mathbf{v}_j$ can be computed independently. The optimization problem for each $\\mathbf{v}_j$ can be written as:\n",
    "\n",
    "$$\n",
    "\\mathbf{v}_j = \\left( \\sum_{i} \\mathbf{u}_i^T\\mathbf{u}_i \\right)^{-1} \\sum_{i} R_{i,j}\\mathbf{u}_i\n",
    "$$\n",
    "\n",
    "### Step 3: Fix $V$, Solve for $U$\n",
    "\n",
    "With $V$ fixed, each $\\mathbf{u}_i$ can be computed independently. The optimization problem for each $\\mathbf{u}_i$ can be written as:\n",
    "\n",
    "$$\n",
    "\\mathbf{u}_i = \\left( \\sum_{j} \\mathbf{v}_j^T\\mathbf{v}_j \\right)^{-1} \\sum_{j} R_{i,j}\\mathbf{v}_j\n",
    "$$\n",
    "\n",
    "Repeat Steps 2 and 3 until convergence or until a predefined number of iterations is reached.\n",
    "\n",
    "## Benefits of ALS\n",
    "\n",
    "ALS has its strengths, including its ability to parallelize and distribute computation, its handling of missing values, and its computational efficiency.\n",
    "\n",
    "## Applications of ALS\n",
    "\n",
    "The primary application of ALS is in collaborative filtering for recommendation systems. For example, the algorithm is used in platforms like Netflix and Spotify to recommend movies and music to users based on their previous behaviors and the behaviors of other users.\n",
    "\n",
    "## Limitations of ALS\n",
    "\n",
    "Like any other algorithm, ALS also has its limitations:\n",
    "\n",
    "- ALS assumes that missing data means negative feedback, which might not always be the case. For example, a user may not have interacted with an item simply because they were not aware of its existence, not because they didn't like it.\n",
    "\n",
    "- ALS may not handle new users or items (also known as the cold start problem) very well. Since it relies on historical user-item interactions, it can be difficult to generate recommendations for new users or items that have little interaction history.\n",
    "\n",
    "- ALS can lead to popularity bias in recommendations. Popular items can often end up being recommended more often, while less popular or niche items may be overlooked.\n",
    "\n",
    "- Tuning the model parameters (like the dimensionality of the factor vectors and regularization term) requires careful consideration and can be computationally intensive.\n",
    "\n",
    "You can find more at https://spark.apache.org/docs/latest/ml-collaborative-filtering.html"
   ]
  },
  {
   "cell_type": "code",
   "execution_count": 1,
   "metadata": {},
   "outputs": [],
   "source": [
    "import findspark\n",
    "findspark.init()\n",
    "from pyspark import SparkContext\n",
    "from pyspark.sql import SparkSession\n",
    "sc = SparkContext(\"local\")\n",
    "spark = SparkSession.builder.getOrCreate()"
   ]
  },
  {
   "cell_type": "code",
   "execution_count": 2,
   "metadata": {},
   "outputs": [],
   "source": [
    "from pyspark.ml.recommendation import ALS\n",
    "# Load the ratings data from CSV\n",
    "ratings_data = spark.read.csv(\"data\\\\movie-small\\\\ratings.csv\", header=True, inferSchema=True)\n",
    "\n",
    "# Load the movies data from CSV\n",
    "movies_data = spark.read.csv(\"data\\\\movie-small\\\\movies.csv\", header=True, inferSchema=True)\n",
    "\n",
    "# Split the data into training and test sets\n",
    "(training_data, test_data) = ratings_data.randomSplit([0.8, 0.2], seed=1234)"
   ]
  },
  {
   "cell_type": "markdown",
   "metadata": {},
   "source": [
    "# Create an ALS model"
   ]
  },
  {
   "cell_type": "code",
   "execution_count": 3,
   "metadata": {},
   "outputs": [
    {
     "name": "stderr",
     "output_type": "stream",
     "text": [
      "C:\\Spark\\spark-3.2.2-bin-hadoop3.2\\python\\pyspark\\sql\\context.py:125: FutureWarning: Deprecated in 3.0.0. Use SparkSession.builder.getOrCreate() instead.\n",
      "  warnings.warn(\n"
     ]
    }
   ],
   "source": [
    "# Create an ALS model\n",
    "als = ALS(maxIter=10, regParam=0.01, userCol=\"userId\", itemCol=\"movieId\", \n",
    "          ratingCol=\"rating\", coldStartStrategy=\"drop\")\n",
    "\n",
    "# Fit the model to the training data\n",
    "model = als.fit(training_data)\n",
    "\n",
    "# Generate recommendations for all users\n",
    "user_recs = model.recommendForAllUsers(10)  # Generate top 10 recommendations for each user\n",
    "\n",
    "# convert the recommendations to multiple rows per user with one recommendation in each row\n",
    "user_recs = user_recs.selectExpr(\"userId\", \"explode(recommendations) as recommendations\")\n",
    "# convert the recommendations column from {movieId, rating} to tow columns movieId  and rating\n",
    "user_recs = user_recs.selectExpr(\"userId\", \"recommendations.movieId as movieId\", \n",
    "                                 \"recommendations.rating as rating\")"
   ]
  },
  {
   "cell_type": "markdown",
   "metadata": {},
   "source": [
    "# Evaluate the model by computing the RMSE on the test data"
   ]
  },
  {
   "cell_type": "code",
   "execution_count": 4,
   "metadata": {},
   "outputs": [
    {
     "name": "stdout",
     "output_type": "stream",
     "text": [
      "Root-mean-square error = 1.1085100193424526\n"
     ]
    }
   ],
   "source": [
    "from pyspark.ml.evaluation import RegressionEvaluator\n",
    "# Evaluate the model by computing the RMSE on the test data\n",
    "predictions = model.transform(test_data)\n",
    "evaluator = RegressionEvaluator(metricName=\"rmse\", labelCol=\"rating\",\n",
    "                                predictionCol=\"prediction\")\n",
    "rmse = evaluator.evaluate(predictions)\n",
    "print(\"Root-mean-square error = \" + str(rmse))"
   ]
  },
  {
   "cell_type": "markdown",
   "metadata": {},
   "source": [
    "# Show the recommendations for a specific user"
   ]
  },
  {
   "cell_type": "code",
   "execution_count": 5,
   "metadata": {},
   "outputs": [
    {
     "name": "stdout",
     "output_type": "stream",
     "text": [
      "Movies rated by user with id 2\n",
      "+----------------------------------------------------+-----------------------------------------------+------+\n",
      "|title                                               |genres                                         |rating|\n",
      "+----------------------------------------------------+-----------------------------------------------+------+\n",
      "|Shawshank Redemption, The (1994)                    |Crime|Drama                                    |3.0   |\n",
      "|Tommy Boy (1995)                                    |Comedy                                         |4.0   |\n",
      "|Good Will Hunting (1997)                            |Drama|Romance                                  |4.5   |\n",
      "|Gladiator (2000)                                    |Action|Adventure|Drama                         |4.0   |\n",
      "|Kill Bill: Vol. 1 (2003)                            |Action|Crime|Thriller                          |4.0   |\n",
      "|Collateral (2004)                                   |Action|Crime|Drama|Thriller                    |3.5   |\n",
      "|Talladega Nights: The Ballad of Ricky Bobby (2006)  |Action|Comedy                                  |4.0   |\n",
      "|Departed, The (2006)                                |Crime|Drama|Thriller                           |4.0   |\n",
      "|Dark Knight, The (2008)                             |Action|Crime|Drama|IMAX                        |4.5   |\n",
      "|Step Brothers (2008)                                |Comedy                                         |5.0   |\n",
      "|Inglourious Basterds (2009)                         |Action|Drama|War                               |4.5   |\n",
      "|Zombieland (2009)                                   |Action|Comedy|Horror                           |3.0   |\n",
      "|Shutter Island (2010)                               |Drama|Mystery|Thriller                         |4.0   |\n",
      "|Exit Through the Gift Shop (2010)                   |Comedy|Documentary                             |3.0   |\n",
      "|Inception (2010)                                    |Action|Crime|Drama|Mystery|Sci-Fi|Thriller|IMAX|4.0   |\n",
      "|Town, The (2010)                                    |Crime|Drama|Thriller                           |4.5   |\n",
      "|Inside Job (2010)                                   |Documentary                                    |5.0   |\n",
      "|Louis C.K.: Hilarious (2010)                        |Comedy                                         |4.0   |\n",
      "|Warrior (2011)                                      |Drama                                          |5.0   |\n",
      "|Dark Knight Rises, The (2012)                       |Action|Adventure|Crime|IMAX                    |3.5   |\n",
      "|Girl with the Dragon Tattoo, The (2011)             |Drama|Thriller                                 |2.5   |\n",
      "|Django Unchained (2012)                             |Action|Drama|Western                           |3.5   |\n",
      "|Wolf of Wall Street, The (2013)                     |Comedy|Crime|Drama                             |5.0   |\n",
      "|Interstellar (2014)                                 |Sci-Fi|IMAX                                    |3.0   |\n",
      "|Whiplash (2014)                                     |Drama                                          |4.0   |\n",
      "|The Drop (2014)                                     |Crime|Drama|Thriller                           |2.0   |\n",
      "|Ex Machina (2015)                                   |Drama|Sci-Fi|Thriller                          |3.5   |\n",
      "|Mad Max: Fury Road (2015)                           |Action|Adventure|Sci-Fi|Thriller               |5.0   |\n",
      "|The Jinx: The Life and Deaths of Robert Durst (2015)|Documentary                                    |5.0   |\n",
      "+----------------------------------------------------+-----------------------------------------------+------+\n",
      "\n",
      "Top 10 recommendations for user with id 2\n",
      "+------------------------------------------------------------------+-------------------------------------+---------+\n",
      "|title                                                             |genres                               |rating   |\n",
      "+------------------------------------------------------------------+-------------------------------------+---------+\n",
      "|Flash Gordon (1980)                                               |Action|Adventure|Sci-Fi              |9.5280485|\n",
      "|Proposal, The (2009)                                              |Comedy|Romance                       |7.8743415|\n",
      "|Persuasion (1995)                                                 |Drama|Romance                        |7.822497 |\n",
      "|Sullivan's Travels (1941)                                         |Adventure|Comedy|Romance             |7.6006355|\n",
      "|Red Dawn (1984)                                                   |Action|Drama|War                     |7.580669 |\n",
      "|Where the Wild Things Are (2009)                                  |Adventure|Children|Drama|Fantasy|IMAX|7.34213  |\n",
      "|Mist, The (2007)                                                  |Horror|Sci-Fi                        |7.2632823|\n",
      "|Adventures of Buckaroo Banzai Across the 8th Dimension, The (1984)|Adventure|Comedy|Sci-Fi              |7.175868 |\n",
      "|Family Guy Presents: It's a Trap (2010)                           |Animation|Comedy|Sci-Fi              |7.139153 |\n",
      "|Slackers (2002)                                                   |Comedy                               |7.116838 |\n",
      "+------------------------------------------------------------------+-------------------------------------+---------+\n",
      "\n"
     ]
    }
   ],
   "source": [
    "# Show the recommendations for a specific user\n",
    "user_id = 2\n",
    "\n",
    "user_rec = user_recs.filter(user_recs.userId == user_id)\n",
    "\n",
    "print(\"Movies rated by user with id \" + str(user_id))\n",
    "# Show the movies rated by the user\n",
    "user_ratings = ratings_data.filter(ratings_data.userId == user_id).join(movies_data, \"movieId\")\\\n",
    "    .select(\"title\", \"genres\", \"rating\")\n",
    "user_ratings.show(100,truncate=False)\n",
    "\n",
    "# join the recommendations with the movies data to get the movie titles\n",
    "user_rec = user_rec.join(movies_data, \"movieId\")\\\n",
    "    .select(\"title\", \"genres\", \"rating\")\n",
    "print(\"Top 10 recommendations for user with id \" + str(user_id))\n",
    "# Show the recommendations for a specific user\n",
    "user_rec.show(truncate=False)"
   ]
  },
  {
   "cell_type": "markdown",
   "metadata": {},
   "source": [
    "# Generate top 10 user recommendations for each movie"
   ]
  },
  {
   "cell_type": "code",
   "execution_count": 6,
   "metadata": {},
   "outputs": [
    {
     "name": "stdout",
     "output_type": "stream",
     "text": [
      "Top 10 users that will be interested in the movie with id 2\n",
      "+-------+------+---------+\n",
      "|movieId|userId|rating   |\n",
      "+-------+------+---------+\n",
      "|2      |258   |6.898732 |\n",
      "|2      |543   |5.9302106|\n",
      "|2      |407   |5.830795 |\n",
      "|2      |48    |5.375635 |\n",
      "|2      |35    |5.1472993|\n",
      "|2      |162   |4.9345474|\n",
      "|2      |553   |4.8886347|\n",
      "|2      |53    |4.881683 |\n",
      "|2      |478   |4.8594093|\n",
      "|2      |584   |4.8578053|\n",
      "+-------+------+---------+\n",
      "\n"
     ]
    }
   ],
   "source": [
    "# Generate top 10 user recommendations for each movie\n",
    "movieRecs = model.recommendForAllItems(10)\n",
    "\n",
    "# convert the recommendations to multiple rows per movie with one recommendation in each row\n",
    "movieRecs = movieRecs.selectExpr(\"movieId\", \"explode(recommendations) as recommendations\")\n",
    "# convert the recommendations column from {userId, rating} to tow columns userId  and rating\n",
    "movieRecs = movieRecs.selectExpr(\"movieId\", \"recommendations.userId as userId\",\n",
    "                                    \"recommendations.rating as rating\")\n",
    "\n",
    "# Show the recommendations for a specific movie\n",
    "movie_id = 2\n",
    "\n",
    "movie_rec = movieRecs.filter(movieRecs.movieId == movie_id)\n",
    "\n",
    "print(\"Top 10 users that will be interested in the movie with id \" + str(movie_id))\n",
    "movie_rec.show(truncate=False)\n"
   ]
  },
  {
   "cell_type": "code",
   "execution_count": null,
   "metadata": {},
   "outputs": [],
   "source": []
  }
 ],
 "metadata": {
  "kernelspec": {
   "display_name": "spark",
   "language": "python",
   "name": "python3"
  },
  "language_info": {
   "codemirror_mode": {
    "name": "ipython",
    "version": 3
   },
   "file_extension": ".py",
   "mimetype": "text/x-python",
   "name": "python",
   "nbconvert_exporter": "python",
   "pygments_lexer": "ipython3",
   "version": "3.10.14"
  },
  "orig_nbformat": 4
 },
 "nbformat": 4,
 "nbformat_minor": 2
}
