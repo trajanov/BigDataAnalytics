{
  "nbformat": 4,
  "nbformat_minor": 0,
  "metadata": {
    "colab": {
      "provenance": []
    },
    "kernelspec": {
      "name": "python3",
      "display_name": "Python 3"
    },
    "language_info": {
      "name": "python"
    }
  },
  "cells": [
    {
      "cell_type": "code",
      "execution_count": 1,
      "metadata": {
        "colab": {
          "base_uri": "https://localhost:8080/"
        },
        "id": "p2E9Jp-JiTX5",
        "outputId": "6fdaac49-94bb-4683-8807-62601a024929"
      },
      "outputs": [
        {
          "output_type": "stream",
          "name": "stdout",
          "text": [
            "Requirement already satisfied: pyspark==3.3.1 in /usr/local/lib/python3.10/dist-packages (3.3.1)\n",
            "Requirement already satisfied: spark-nlp==5.5.0 in /usr/local/lib/python3.10/dist-packages (5.5.0)\n",
            "Requirement already satisfied: py4j==0.10.9.5 in /usr/local/lib/python3.10/dist-packages (from pyspark==3.3.1) (0.10.9.5)\n"
          ]
        }
      ],
      "source": [
        "# Install PySpark and Spark NLP\n",
        "! pip install pyspark==3.3.1 spark-nlp==5.5.0"
      ]
    },
    {
      "cell_type": "code",
      "source": [
        "import sparknlp\n",
        "from sparknlp.base import *\n",
        "from sparknlp.annotator import *\n",
        "from pyspark.ml import Pipeline\n",
        "spark = sparknlp.start()"
      ],
      "metadata": {
        "id": "H584wW_piVfE"
      },
      "execution_count": 2,
      "outputs": []
    },
    {
      "cell_type": "code",
      "source": [
        "document = DocumentAssembler() \\\n",
        "    .setInputCol(\"text\") \\\n",
        "    .setOutputCol(\"document\")\n",
        "\n",
        "autoGGUFModel = AutoGGUFModel.pretrained() \\\n",
        "    .setInputCols([\"document\"]) \\\n",
        "    .setOutputCol(\"generation\") \\\n",
        "    .setTemperature(0) \\\n",
        "    #.setBatchSize(4) \\\n",
        "    #.setNPredict(100) \\\n",
        "    #.setNProbs(50)\\\n",
        "    #.setNGpuLayers(99) \\\n",
        "    #.setTopK(40) \\\n",
        "    #.setTopP(0.9) \\\n",
        "    #.setPenalizeNl(True)\n",
        "pipeline = Pipeline().setStages([document, autoGGUFModel])"
      ],
      "metadata": {
        "colab": {
          "base_uri": "https://localhost:8080/"
        },
        "id": "KkU2HLtsizi6",
        "outputId": "ccae22d0-4b6b-4dfb-a225-14773e85041b"
      },
      "execution_count": 5,
      "outputs": [
        {
          "output_type": "stream",
          "name": "stdout",
          "text": [
            "phi3.5_mini_4k_instruct_q4_gguf download started this may take some time.\n",
            "Approximate size to download 2.2 GB\n",
            "[OK!]\n"
          ]
        }
      ]
    },
    {
      "cell_type": "code",
      "source": [
        "data = spark.createDataFrame([[\"What is the distance between Earth and Sun?\"]]).toDF(\"text\")\n",
        "result = pipeline.fit(data).transform(data)\n",
        "result.show(truncate = False)"
      ],
      "metadata": {
        "colab": {
          "base_uri": "https://localhost:8080/"
        },
        "id": "MhIISPc_kZIN",
        "outputId": "3a644dce-79af-4292-822b-a3839625d632"
      },
      "execution_count": 6,
      "outputs": [
        {
          "output_type": "stream",
          "name": "stdout",
          "text": [
            "+------------------------------------------+------------------------------------------------------------------------------------+-----------------------------------------------------------------------------------------------------------------------------------------------------------------------------------------------------------------------------------------------------------------------------------------------------------------------------------------------------------------------------------------------------------------------------------------------------------------------------------------------------------------------------------------------+\n",
            "|text                                      |document                                                                            |generation                                                                                                                                                                                                                                                                                                                                                                                                                                                                                                                                     |\n",
            "+------------------------------------------+------------------------------------------------------------------------------------+-----------------------------------------------------------------------------------------------------------------------------------------------------------------------------------------------------------------------------------------------------------------------------------------------------------------------------------------------------------------------------------------------------------------------------------------------------------------------------------------------------------------------------------------------+\n",
            "|What is the distance between Earth and Sun|[{document, 0, 41, What is the distance between Earth and Sun, {sentence -> 0}, []}]|[{document, 0, 480,  in kilometers?\\n\\n# Answer\\nThe average distance from Earth to the Sun is approximately 149.6 million kilometers (93 million miles). This distance is also known as one Astronomical Unit (AU). However, the actual distance varies slightly over the course of the year due to Earth's elliptical orbit, ranging from about 147.1 million kilometers (91.4 million miles) at perihelion (closest approach) to about 152.1 million kilometers (94.5 million miles) at aphelion (farthest distance)., {sentence -> 0}, []}]|\n",
            "+------------------------------------------+------------------------------------------------------------------------------------+-----------------------------------------------------------------------------------------------------------------------------------------------------------------------------------------------------------------------------------------------------------------------------------------------------------------------------------------------------------------------------------------------------------------------------------------------------------------------------------------------------------------------------------------------+\n",
            "\n"
          ]
        }
      ]
    },
    {
      "cell_type": "code",
      "source": [],
      "metadata": {
        "id": "2B3YdOMwmnrz"
      },
      "execution_count": null,
      "outputs": []
    }
  ]
}